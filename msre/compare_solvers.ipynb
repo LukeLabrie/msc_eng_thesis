{
 "cells": [
  {
   "cell_type": "markdown",
   "metadata": {},
   "source": [
    "Imports"
   ]
  },
  {
   "cell_type": "code",
   "execution_count": 46,
   "metadata": {},
   "outputs": [],
   "source": [
    "from jitcdde import jitcdde, y, t\n",
    "from parameters import *\n",
    "import numpy as np\n",
    "import matplotlib.pyplot as plt\n",
    "import pandas as pd"
   ]
  },
  {
   "cell_type": "markdown",
   "metadata": {},
   "source": [
    "Define System"
   ]
  },
  {
   "cell_type": "code",
   "execution_count": 47,
   "metadata": {},
   "outputs": [],
   "source": [
    "\n",
    "# delays\n",
    "taus = [tau_c, tau_c_hx, tau_hx_c, tau_hx_r, tau_l, tau_r_hx]\n",
    "\n",
    "# dT/dt for radiator nodes\n",
    "T_out_rc = (W_rp/mn_rp)*(y(11,t-tau_hx_r)-y(0)) + (hA_rpn/mcp_rpn)*(y(1)-y(0))                  # T_out_rc: y(0)\n",
    "T_out_air = -((W_rs/mn_rs)+(hA_rsn/mcp_rsn))*y(1) + (hA_rsn/mcp_rsn)*y(0) + (W_rs/mn_rs)*Trs_in # T_out_air: y(1)\n",
    "\n",
    "# dT/dt for heat exchanger nodes\n",
    "T_hf1 = -((W_p/mn_p)+(hA_pn/mcp_pn))*y(2) + (hA_pn/mcp_pn)*y(6) + (W_p/mn_p)*y(21,t-tau_c_hx)  # T_hf1: y(2)\n",
    "T_hf2 = (W_p/mn_p)*(y(2)-y(3)) + (hA_pn/mcp_pn)*(y(6)-y(2))                                    # T_hf2: y(3)\n",
    "T_hf3 = -((W_p/mn_p)+(hA_pn/mcp_pn))*y(4) + (hA_pn/mcp_pn)*y(7) + (W_p/mn_p)*y(3)              # T_hf3: y(4)\n",
    "T_hf4 = (W_p/mn_p)*(y(4)-y(5)) + (hA_pn/mcp_pn)*(y(7)-y(4))                                    # T_hf4: y(5)\n",
    "T_ht1 = (2*hA_pn/mcp_tn)*(y(2)-y(6)) + (2*hA_sn/mcp_tn)*(y(10)-y(6))                           # T_ht1: y(6)\n",
    "T_ht2 = (2*hA_pn/mcp_tn)*(y(4)-y(7)) + (2*hA_sn/mcp_tn)*(y(8)-y(7))                            # T_ht2: y(7)\n",
    "T_hc1 = -((W_s/mn_s)+(hA_sn/mcp_sn))*y(8) + (hA_sn/mcp_sn)*y(7) + (W_s/mn_s)*y(0,t-tau_r_hx)   # T_hc1: y(8)\n",
    "T_hc2 = (W_s/mn_s)*(y(8)-y(9)) + (hA_sn/mcp_sn)*(y(7)-y(8))                                    # T_hc2: y(9)\n",
    "T_hc3 = -((W_s/mn_s)+(hA_sn/mcp_sn))*y(10) + (hA_sn/mcp_sn)*y(6) + (W_s/mn_s)*y(9)             # T_hc3: y(10)\n",
    "T_hc4 = (W_s/mn_s)*(y(10)-y(11)) + (hA_sn/mcp_sn)*(y(6)-y(10))                                 # T_hc4: y(11)\n",
    "\n",
    "# dn/dt\n",
    "n = (y(22)-beta_t)*y(12)/Lam+lam[0]*y(13)+lam[1]*y(14)+lam[2]*y(15)+lam[3]*y(16)+lam[4]*y(17)+lam[5]*y(18) # n (no source insertion): y(12)\n",
    "\n",
    "# dC_i/dt (precursor concentrations)\n",
    "C1 = y(12)*beta[0]/Lam-lam[0]*y(13)-y(13)/tau_c+y(13,t-tau_l)*np.exp(-lam[0]*tau_l)/tau_c  # C1: y(13)\n",
    "C2 = y(12)*beta[1]/Lam-lam[1]*y(14)-y(14)/tau_c+y(14,t-tau_l)*np.exp(-lam[1]*tau_l)/tau_c  # C2: y(14)\n",
    "C3 = y(12)*beta[2]/Lam-lam[2]*y(15)-y(15)/tau_c+y(15,t-tau_l)*np.exp(-lam[2]*tau_l)/tau_c  # C3: y(15)\n",
    "C4 = y(12)*beta[3]/Lam-lam[3]*y(16)-y(16)/tau_c+y(16,t-tau_l)*np.exp(-lam[3]*tau_l)/tau_c  # C4: y(16)\n",
    "C5 = y(12)*beta[4]/Lam-lam[4]*y(17)-y(17)/tau_c+y(17,t-tau_l)*np.exp(-lam[4]*tau_l)/tau_c  # C5: y(17)\n",
    "C6 = y(12)*beta[5]/Lam-lam[5]*y(18)-y(18)/tau_c+y(18,t-tau_l)*np.exp(-lam[5]*tau_l)/tau_c  # C6: y(18)\n",
    "\n",
    "# dT/dt core nodes\n",
    "T_cg = (hA_fg/mcp_g1)*(y(20)-y(19)) + k_g*P*y(12)/mcp_g1                                             # T_cg: y(19)\n",
    "T_cf1 = W_f/mn_f*(y(5,t-tau_hx_c)-y(20)) + (k_f1*P*y(12)/mcp_f1) + (hA_fg*k_1*(y(19)-y(20))/mcp_f1)  # T_cf1: y(20)\n",
    "T_cf2 = W_f/mn_f*(y(20)-y(21)) + (k_f2*P*y(12)/mcp_f2) + (hA_fg*k_2*(y(19)-y(20))/mcp_f2)            # T_cf2: y(21)\n",
    "\n",
    "# rho y(22)\n",
    "rho = (a_f/2)*(T_cf1 + T_cf2) + (a_g)*(T_cg)\n",
    "\n",
    "# instantiate jitcdde object\n",
    "DDE = jitcdde([T_out_rc,T_out_air,T_hf1,T_hf2,T_hf3,T_hf4,T_ht1,T_ht2,T_hc1,\n",
    "               T_hc2,T_hc3,T_hc4,n,C1,C2,C3,C4,C5,C6,T_cg,T_cf1,T_cf2,rho])\n",
    "\n",
    "# set initial conditions\n",
    "DDE.constant_past([T0_rp, T0_rs, T0_p1,T0_p2, T0_p3, T0_p4, T0_t1, T0_t2, T0_s1, T0_s2, \n",
    "          T0_s3, T0_s4, n_frac0, C0[0], C0[1], C0[2], C0[3], C0[4], C0[5], \n",
    "          T0_g1, T0_f1, T0_f2,0.0])\n",
    "\n"
   ]
  },
  {
   "cell_type": "markdown",
   "metadata": {},
   "source": [
    "Unpack data"
   ]
  },
  {
   "cell_type": "code",
   "execution_count": 48,
   "metadata": {},
   "outputs": [],
   "source": [
    "\n",
    "# get data from initial python implementation\n",
    "sol = []\n",
    "k_file = open('../data/sim_out_500.0_8', 'r')\n",
    "for k in k_file.readlines():\n",
    "    sol.append(k.split())\n",
    "k_file.close()\n",
    "\n",
    "# arrays\n",
    "T_sol = [float(s[0]) for s in sol]\n",
    "n_sol = [float(s[13]) for s in sol]\n",
    "\n",
    "# dde23 data\n",
    "df_dde23 = pd.read_excel(\"../data/simout_k_500.xlsx\")\n",
    "df_simulink = pd.read_excel(\"../data/k_500_simulink.xlsx\")\n"
   ]
  },
  {
   "cell_type": "markdown",
   "metadata": {},
   "source": [
    "Solve"
   ]
  },
  {
   "cell_type": "code",
   "execution_count": 49,
   "metadata": {},
   "outputs": [
    {
     "name": "stdout",
     "output_type": "stream",
     "text": [
      "Generating, compiling, and loading C code.\n",
      "Using default integration parameters.\n"
     ]
    },
    {
     "name": "stderr",
     "output_type": "stream",
     "text": [
      "/home/luke/git/envs/thesis_env/lib/python3.11/site-packages/jitcdde/_jitcdde.py:795: UserWarning: You did not explicitly handle initial discontinuities. Proceed only if you know what you are doing. This is only fine if you somehow chose your initial past such that the derivative of the last anchor complies with the DDE. In this case, you can set the attribute `initial_discontinuities_handled` to `True` to suppress this warning. See https://jitcdde.rtfd.io/#discontinuities for details.\n",
      "  warn(\"You did not explicitly handle initial discontinuities. Proceed only if you know what you are doing. This is only fine if you somehow chose your initial past such that the derivative of the last anchor complies with the DDE. In this case, you can set the attribute `initial_discontinuities_handled` to `True` to suppress this warning. See https://jitcdde.rtfd.io/#discontinuities for details.\")\n",
      "/home/luke/git/envs/thesis_env/lib/python3.11/site-packages/jitcdde/_jitcdde.py:792: UserWarning: The target time is smaller than the current time. No integration step will happen. The returned state will be extrapolated from the interpolating Hermite polynomial for the last integration step. You may see this because you try to integrate backwards in time, in which case you did something wrong. You may see this just because your sampling step is small, in which case there is no need to worry.\n",
      "  warn(\"The target time is smaller than the current time. No integration step will happen. The returned state will be extrapolated from the interpolating Hermite polynomial for the last integration step. You may see this because you try to integrate backwards in time, in which case you did something wrong. You may see this just because your sampling step is small, in which case there is no need to worry.\")\n"
     ]
    }
   ],
   "source": [
    "\n",
    "# jitcdde solve\n",
    "data_solver = []\n",
    "for t_x in T_sol:\n",
    "    data_solver.append(DDE.integrate(t_x))\n",
    "\n",
    "n_jit = [d[12] for d in data_solver]"
   ]
  },
  {
   "cell_type": "code",
   "execution_count": 50,
   "metadata": {},
   "outputs": [],
   "source": [
    "# unpack jit vs simulink data\n",
    "jit_simulink = []\n",
    "k_file = open('../data/sim_out_500.0_jitcdde.txt', 'r')\n",
    "for k in k_file.readlines():\n",
    "    jit_simulink.append(k.split())\n",
    "k_file.close()"
   ]
  },
  {
   "cell_type": "markdown",
   "metadata": {},
   "source": [
    "Plot manual solver vs JitCDDE"
   ]
  },
  {
   "cell_type": "code",
   "execution_count": 113,
   "metadata": {},
   "outputs": [
    {
     "data": {
      "text/plain": [
       "<matplotlib.lines.Line2D at 0x7f25574a5c10>"
      ]
     },
     "execution_count": 113,
     "metadata": {},
     "output_type": "execute_result"
    },
    {
     "data": {
      "image/png": "[encoded data removed]",
      "text/plain": [
       "<Figure size 640x480 with 1 Axes>"
      ]
     },
     "metadata": {},
     "output_type": "display_data"
    }
   ],
   "source": [
    "# dde23 doesn't return 0th solution point\n",
    "t_start = 0.0\n",
    "t_stop = 500.00\n",
    "\n",
    "dde_start = min([i for i in range(len(df_dde23[0])) if df_dde23[0][i] >= t_start])\n",
    "dde_stop = max([i for i in range(dde_start,len(df_dde23[0])) if df_dde23[0][i] <= t_stop])\n",
    "sim_start = min([i for i in range(len(df_simulink['time'])) if df_simulink['time'][i] >= t_start])\n",
    "sim_stop = max([i for i in range(sim_start,len(df_simulink['time'])) if df_simulink['time'][i] <= t_stop])\n",
    "\n",
    "diff_sol = np.subtract(n_sol,n_jit)\n",
    "diff_dde = np.subtract(df_dde23[1][dde_start:dde_stop],n_jit[1+dde_start:dde_stop+1])\n",
    "diff_simulink = np.subtract([float(j[12]) for j in jit_simulink[sim_start:sim_stop]],np.array(df_simulink['Mux(4)'][sim_start:sim_stop]))\n",
    "\n",
    "# plot\n",
    "plt.plot(df_dde23[0][1+dde_start:dde_stop+1],diff_dde,label=\"dde23\")\n",
    "plt.plot(df_simulink['time'][sim_start:sim_stop],diff_simulink,label=\"simulink\")\n",
    "#plt.plot(T_sol,np.subtract(n_sol,n_jit),label=\"Luke's Solver\")\n",
    "plt.title(\"Solver Comparison: Against JiTCDDE\")\n",
    "plt.ylabel(r\"$\\Delta n$\",rotation=0)\n",
    "plt.xlabel(\"t (s)\")\n",
    "plt.legend()\n",
    "plt.ticklabel_format(axis='y', style='sci', scilimits=(-6,-4))\n",
    "plt.axhline(0, color='black', linestyle='dotted')"
   ]
  },
  {
   "cell_type": "markdown",
   "metadata": {},
   "source": [
    "Calculate sum squared errors"
   ]
  },
  {
   "cell_type": "code",
   "execution_count": 118,
   "metadata": {},
   "outputs": [
    {
     "name": "stdout",
     "output_type": "stream",
     "text": [
      "manual solver: 0.0031056290472974255\n",
      "dde23: 8.014961459349476e-09\n",
      "simulink: 8.925799098085904e-08\n",
      "\n",
      "Excluding first second:\n",
      "\n",
      "manual solver: 0.0031\n",
      "dde23: 0.0000\n",
      "simulink: 0.0000\n"
     ]
    }
   ],
   "source": [
    "sse_sol = sum(np.square(diff_sol))\n",
    "sse_dde23 = sum(np.square(diff_dde))\n",
    "sse_simulink = sum(np.square(diff_simulink))\n",
    "\n",
    "print(f\"manual solver: {sse_sol}\")\n",
    "print(f\"dde23: {sse_dde23}\")\n",
    "print(f\"simulink: {sse_simulink}\")\n",
    "\n",
    "# exclude first second\n",
    "\n",
    "# dde23 doesn't return 0th solution point\n",
    "t_start = 1.0\n",
    "t_stop = 500.00\n",
    "\n",
    "dde_start = min([i for i in range(len(df_dde23[0])) if df_dde23[0][i] >= t_start])\n",
    "dde_stop = max([i for i in range(dde_start,len(df_dde23[0])) if df_dde23[0][i] <= t_stop])\n",
    "sim_start = min([i for i in range(len(df_simulink['time'])) if df_simulink['time'][i] >= t_start])\n",
    "sim_stop = max([i for i in range(sim_start,len(df_simulink['time'])) if df_simulink['time'][i] <= t_stop])\n",
    "\n",
    "diff_sol = np.subtract(n_sol,n_jit)\n",
    "diff_dde = np.subtract(df_dde23[1][dde_start:dde_stop],n_jit[1+dde_start:dde_stop+1])\n",
    "diff_simulink = np.subtract([float(j[12]) for j in jit_simulink[sim_start:sim_stop]],np.array(df_simulink['Mux(4)'][sim_start:sim_stop]))\n",
    "sse_sol = sum(np.square(diff_sol))\n",
    "sse_dde23 = sum(np.square(diff_dde)[dde_start:dde_stop])\n",
    "sse_simulink = sum(np.square(diff_simulink)[sim_start:sim_stop])\n",
    "\n",
    "print(f\"\\nExcluding first second:\\n\")\n",
    "print(f\"manual solver: {sse_sol}\")\n",
    "print(f\"dde23: {sse_dde23}\")\n",
    "print(f\"simulink: {sse_simulink}\")"
   ]
  }
 ],
 "metadata": {
  "kernelspec": {
   "display_name": "thesis_env",
   "language": "python",
   "name": "python3"
  },
  "language_info": {
   "codemirror_mode": {
    "name": "ipython",
    "version": 3
   },
   "file_extension": ".py",
   "mimetype": "text/x-python",
   "name": "python",
   "nbconvert_exporter": "python",
   "pygments_lexer": "ipython3",
   "version": "3.11.5"
  },
  "orig_nbformat": 4
 },
 "nbformat": 4,
 "nbformat_minor": 2
}
