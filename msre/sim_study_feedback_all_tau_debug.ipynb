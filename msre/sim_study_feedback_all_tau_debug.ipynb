{
 "cells": [
  {
   "cell_type": "markdown",
   "metadata": {},
   "source": [
    "Imports"
   ]
  },
  {
   "cell_type": "code",
   "execution_count": 1,
   "metadata": {},
   "outputs": [],
   "source": [
    "from jitcdde import jitcdde_input, input, y, t\n",
    "from parameters import *\n",
    "import numpy as np\n",
    "import matplotlib.pyplot as plt\n",
    "import pandas as pd\n",
    "from chspy import CubicHermiteSpline\n",
    "import symengine as se"
   ]
  },
  {
   "cell_type": "markdown",
   "metadata": {},
   "source": [
    "Define System"
   ]
  },
  {
   "cell_type": "code",
   "execution_count": 2,
   "metadata": {},
   "outputs": [],
   "source": [
    "# delays\n",
    "taus = [tau_c, tau_c_hx, tau_hx_c, tau_hx_r, tau_l, tau_r_hx]\n",
    "\n",
    "# dT/dt for radiator nodes\n",
    "T_out_rc = (W_rp/mn_rp)*(y(11,t-tau_hx_r)-y(0)) + (hA_rpn/mcp_rpn)*(y(1)-y(0))                  # T_out_rc: y(0)\n",
    "T_out_air = -((W_rs/mn_rs)+(hA_rsn/mcp_rsn))*y(1) + (hA_rsn/mcp_rsn)*y(0) + (W_rs/mn_rs)*Trs_in # T_out_air: y(1)\n",
    "\n",
    "# dT/dt for heat exchanger nodes\n",
    "T_hf1 = -((W_p/mn_p)+(hA_pn/mcp_pn))*y(2) + (hA_pn/mcp_pn)*y(6) + (W_p/mn_p)*y(21,t-tau_c_hx)  # T_hf1: y(2)\n",
    "T_hf2 = (W_p/mn_p)*(y(2)-y(3)) + (hA_pn/mcp_pn)*(y(6)-y(2))                                    # T_hf2: y(3)\n",
    "T_hf3 = -((W_p/mn_p)+(hA_pn/mcp_pn))*y(4) + (hA_pn/mcp_pn)*y(7) + (W_p/mn_p)*y(3)              # T_hf3: y(4)\n",
    "T_hf4 = (W_p/mn_p)*(y(4)-y(5)) + (hA_pn/mcp_pn)*(y(7)-y(4))                                    # T_hf4: y(5)\n",
    "T_ht1 = (2*hA_pn/mcp_tn)*(y(2)-y(6)) + (2*hA_sn/mcp_tn)*(y(10)-y(6))                           # T_ht1: y(6)\n",
    "T_ht2 = (2*hA_pn/mcp_tn)*(y(4)-y(7)) + (2*hA_sn/mcp_tn)*(y(8)-y(7))                            # T_ht2: y(7)\n",
    "T_hc1 = -((W_s/mn_s)+(hA_sn/mcp_sn))*y(8) + (hA_sn/mcp_sn)*y(7) + (W_s/mn_s)*y(0,t-tau_r_hx)   # T_hc1: y(8)\n",
    "T_hc2 = (W_s/mn_s)*(y(8)-y(9)) + (hA_sn/mcp_sn)*(y(7)-y(8))                                    # T_hc2: y(9)\n",
    "T_hc3 = -((W_s/mn_s)+(hA_sn/mcp_sn))*y(10) + (hA_sn/mcp_sn)*y(6) + (W_s/mn_s)*y(9)             # T_hc3: y(10)\n",
    "T_hc4 = (W_s/mn_s)*(y(10)-y(11)) + (hA_sn/mcp_sn)*(y(6)-y(10))                                 # T_hc4: y(11)\n",
    "\n",
    "t_ins = 2500\n",
    "inserted = 5e-4\n",
    "def rho_insert(t):\n",
    "    if (t<t_ins):\n",
    "        return 0.0\n",
    "    else:\n",
    "        return inserted #*se.sin((1/60)*t)\n",
    "    \n",
    "spline = CubicHermiteSpline(n=1)\n",
    "spline.from_function(rho_insert, times_of_interest = T)\n",
    "rho_ext = input(0)\n",
    "\n",
    "# dn/dt\n",
    "n = (y(22)+rho_ext-beta_t)*y(12)/Lam+lam[0]*y(13)+lam[1]*y(14)+lam[2]*y(15)+lam[3]*y(16)+lam[4]*y(17)+lam[5]*y(18) # n (no source insertion): y(12)\n",
    "\n",
    "# dC_i/dt (precursor concentrations)\n",
    "C1 = y(12)*beta[0]/Lam-lam[0]*y(13)-y(13)/tau_c+y(13,t-tau_l)*np.exp(-lam[0]*tau_l)/tau_c  # C1: y(13)\n",
    "C2 = y(12)*beta[1]/Lam-lam[1]*y(14)-y(14)/tau_c+y(14,t-tau_l)*np.exp(-lam[1]*tau_l)/tau_c  # C2: y(14)\n",
    "C3 = y(12)*beta[2]/Lam-lam[2]*y(15)-y(15)/tau_c+y(15,t-tau_l)*np.exp(-lam[2]*tau_l)/tau_c  # C3: y(15)\n",
    "C4 = y(12)*beta[3]/Lam-lam[3]*y(16)-y(16)/tau_c+y(16,t-tau_l)*np.exp(-lam[3]*tau_l)/tau_c  # C4: y(16)\n",
    "C5 = y(12)*beta[4]/Lam-lam[4]*y(17)-y(17)/tau_c+y(17,t-tau_l)*np.exp(-lam[4]*tau_l)/tau_c  # C5: y(17)\n",
    "C6 = y(12)*beta[5]/Lam-lam[5]*y(18)-y(18)/tau_c+y(18,t-tau_l)*np.exp(-lam[5]*tau_l)/tau_c  # C6: y(18)\n",
    "\n",
    "# dT/dt core nodes\n",
    "T_cg = (hA_fg/mcp_g1)*(y(20)-y(19)) + k_g*P*y(12)/mcp_g1                                             # T_cg: y(19)\n",
    "T_cf1 = W_f/mn_f*(y(5,t-tau_hx_c)-y(20)) + (k_f1*P*y(12)/mcp_f1) + (hA_fg*k_1*(y(19)-y(20))/mcp_f1)  # T_cf1: y(20)\n",
    "T_cf2 = W_f/mn_f*(y(20)-y(21)) + (k_f2*P*y(12)/mcp_f2) + (hA_fg*k_2*(y(19)-y(20))/mcp_f2)            # T_cf2: y(21)\n",
    "\n",
    "# rho y(22)\n",
    "rho = (a_f/2)*(T_cf1 + T_cf2) + (a_g)*(T_cg)\n",
    "\n",
    "# initial reactivity \n",
    "rho_initial = 0.000"
   ]
  },
  {
   "cell_type": "code",
   "execution_count": 3,
   "metadata": {},
   "outputs": [
    {
     "name": "stdout",
     "output_type": "stream",
     "text": [
      "0.00227130968132373*(-current_y(0) + current_y(1)) + 0.256292182093792*(-current_y(0) + past_y(-4.71 + t, 11, anchors(-4.71 + t)))\n",
      "1128.80834864453 + 0.595056568522384*current_y(0) - 30.4735200053814*current_y(1)\n",
      "-2.810325940829*current_y(2) + 0.945852403920198*current_y(6) + 1.8644735369088*past_y(-3.77 + t, 21, anchors(-3.77 + t))\n",
      "0.945852403920198*(-current_y(2) + current_y(6)) + 1.8644735369088*(current_y(2) - current_y(3))\n",
      "1.8644735369088*current_y(3) - 2.810325940829*current_y(4) + 0.945852403920198*current_y(7)\n",
      "0.945852403920198*(-current_y(4) + current_y(7)) + 1.8644735369088*(current_y(4) - current_y(5))\n",
      "5.54283580016839*(current_y(2) - current_y(6)) + 2.61745023896841*(-current_y(6) + current_y(10))\n",
      "5.54283580016839*(current_y(4) - current_y(7)) + 2.61745023896841*(-current_y(7) + current_y(8))\n",
      "1.28444396919807*current_y(7) - 5.3205298452604*current_y(8) + 4.03608587606233*past_y(-8.24 + t, 0, anchors(-8.24 + t))\n",
      "1.28444396919807*(current_y(7) - current_y(8)) + 4.03608587606233*(current_y(8) - current_y(9))\n",
      "1.28444396919807*current_y(6) + 4.03608587606233*current_y(9) - 5.3205298452604*current_y(10)\n",
      "1.28444396919807*(current_y(6) - current_y(10)) + 4.03608587606233*(current_y(10) - current_y(11))\n",
      "4166.66666666667*current_y(12)*(-0.006611 + current_y(22) + past_y(-external_input + t, input_base_n, anchors(-external_input + t))) + 0.0124*current_y(13) + 0.0305*current_y(14) + 0.111*current_y(15) + 0.301*current_y(16) + 1.14*current_y(17) + 3.014*current_y(18)\n",
      "0.929166666666667*current_y(12) - 0.130603309692671*current_y(13) + 0.0960581853599111*past_y(-16.73 + t, 13, anchors(-16.73 + t))\n",
      "6.07083333333333*current_y(12) - 0.148703309692671*current_y(14) + 0.0709617575138203*past_y(-16.73 + t, 14, anchors(-16.73 + t))\n",
      "5.44583333333333*current_y(12) - 0.229203309692671*current_y(15) + 0.0184557524050554*past_y(-16.73 + t, 15, anchors(-16.73 + t))\n",
      "10.95*current_y(12) - 0.419203309692671*current_y(16) + 0.000768492946253289*past_y(-16.73 + t, 16, anchors(-16.73 + t))\n",
      "3.19166666666667*current_y(12) - 1.25820330969267*current_y(17) + 6.16138602517297e-10*past_y(-16.73 + t, 17, anchors(-16.73 + t))\n",
      "0.958333333333333*current_y(12) - 3.13220330969267*current_y(18) + 1.49165757078883e-23*past_y(-16.73 + t, 18, anchors(-16.73 + t))\n",
      "0.00558711202052831*(-current_y(19) + current_y(20)) + 0.0108638289288051*current_y(12)\n",
      "0.0133255232537235*(current_y(19) - current_y(20)) + 0.236406619385343*(-current_y(20) + past_y(-8.67 + t, 5, anchors(-8.67 + t))) + 0.344242684054524*current_y(12)\n",
      "0.0133255232537235*(current_y(19) - current_y(20)) + 0.236406619385343*(current_y(20) - current_y(21)) + 0.344242684054524*current_y(12)\n",
      "-6.66e-05*(0.00558711202052831*(-current_y(19) + current_y(20)) + 0.0108638289288051*current_y(12)) - 4.355e-05*(0.026651046507447*(current_y(19) - current_y(20)) + 0.236406619385343*(current_y(20) - current_y(21)) + 0.236406619385343*(-current_y(20) + past_y(-8.67 + t, 5, anchors(-8.67 + t))) + 0.688485368109049*current_y(12))\n"
     ]
    }
   ],
   "source": [
    "l = [T_out_rc,T_out_air,T_hf1,T_hf2,T_hf3,T_hf4,T_ht1,T_ht2,T_hc1,\n",
    "               T_hc2,T_hc3,T_hc4,n,C1,C2,C3,C4,C5,C6,T_cg,T_cf1,T_cf2,rho]\n",
    "\n",
    "for d in l:\n",
    "    print(d)"
   ]
  },
  {
   "cell_type": "markdown",
   "metadata": {},
   "source": [
    "Solve with JiTCDDE"
   ]
  },
  {
   "cell_type": "code",
   "execution_count": 4,
   "metadata": {},
   "outputs": [],
   "source": [
    "# instantiate jitcdde object\n",
    "DDE = jitcdde_input([T_out_rc,T_out_air,T_hf1,T_hf2,T_hf3,T_hf4,T_ht1,T_ht2,T_hc1,\n",
    "               T_hc2,T_hc3,T_hc4,n,C1,C2,C3,C4,C5,C6,T_cg,T_cf1,T_cf2,rho],spline)\n",
    "\n",
    "# set initial conditions\n",
    "DDE.constant_past([T0_rp, T0_rs, T0_p1,T0_p2, T0_p3, T0_p4, T0_t1, T0_t2, T0_s1, T0_s2, \n",
    "          T0_s3, T0_s4, n_frac0, C0[0], C0[1], C0[2], C0[3], C0[4], C0[5], \n",
    "          T0_g1, T0_f1, T0_f2,rho_initial])\n"
   ]
  },
  {
   "cell_type": "code",
   "execution_count": 5,
   "metadata": {},
   "outputs": [
    {
     "name": "stdout",
     "output_type": "stream",
     "text": [
      "Generating, compiling, and loading C code.\n",
      "Using default integration parameters.\n"
     ]
    },
    {
     "name": "stderr",
     "output_type": "stream",
     "text": [
      "/home/luke/git/envs/thesis_env/lib/python3.11/site-packages/jitcdde/_jitcdde.py:795: UserWarning: You did not explicitly handle initial discontinuities. Proceed only if you know what you are doing. This is only fine if you somehow chose your initial past such that the derivative of the last anchor complies with the DDE. In this case, you can set the attribute `initial_discontinuities_handled` to `True` to suppress this warning. See https://jitcdde.rtfd.io/#discontinuities for details.\n",
      "  warn(\"You did not explicitly handle initial discontinuities. Proceed only if you know what you are doing. This is only fine if you somehow chose your initial past such that the derivative of the last anchor complies with the DDE. In this case, you can set the attribute `initial_discontinuities_handled` to `True` to suppress this warning. See https://jitcdde.rtfd.io/#discontinuities for details.\")\n",
      "/home/luke/git/envs/thesis_env/lib/python3.11/site-packages/jitcdde/_jitcdde.py:795: UserWarning: You did not explicitly handle initial discontinuities. Proceed only if you know what you are doing. This is only fine if you somehow chose your initial past such that the derivative of the last anchor complies with the DDE. In this case, you can set the attribute `initial_discontinuities_handled` to `True` to suppress this warning. See https://jitcdde.rtfd.io/#discontinuities for details.\n",
      "  warn(\"You did not explicitly handle initial discontinuities. Proceed only if you know what you are doing. This is only fine if you somehow chose your initial past such that the derivative of the last anchor complies with the DDE. In this case, you can set the attribute `initial_discontinuities_handled` to `True` to suppress this warning. See https://jitcdde.rtfd.io/#discontinuities for details.\")\n",
      "/home/luke/git/envs/thesis_env/lib/python3.11/site-packages/jitcdde/_jitcdde.py:792: UserWarning: The target time is smaller than the current time. No integration step will happen. The returned state will be extrapolated from the interpolating Hermite polynomial for the last integration step. You may see this because you try to integrate backwards in time, in which case you did something wrong. You may see this just because your sampling step is small, in which case there is no need to worry.\n",
      "  warn(\"The target time is smaller than the current time. No integration step will happen. The returned state will be extrapolated from the interpolating Hermite polynomial for the last integration step. You may see this because you try to integrate backwards in time, in which case you did something wrong. You may see this just because your sampling step is small, in which case there is no need to worry.\")\n"
     ]
    }
   ],
   "source": [
    "sol_jit = []\n",
    "for t_x in T:\n",
    "    sol_jit.append(DDE.integrate(t_x))"
   ]
  },
  {
   "cell_type": "code",
   "execution_count": 6,
   "metadata": {},
   "outputs": [],
   "source": [
    "# df = pd.read_excel('./data/msre_init.xlsx')\n",
    "# df.head()"
   ]
  },
  {
   "cell_type": "code",
   "execution_count": 9,
   "metadata": {},
   "outputs": [
    {
     "data": {
      "text/plain": [
       "[<matplotlib.lines.Line2D at 0x7f571ca0cbd0>]"
      ]
     },
     "execution_count": 9,
     "metadata": {},
     "output_type": "execute_result"
    },
    {
     "data": {
      "image/png": "[encoded data removed]",
      "text/plain": [
       "<Figure size 640x480 with 1 Axes>"
      ]
     },
     "metadata": {},
     "output_type": "display_data"
    }
   ],
   "source": [
    "t0 = 0\n",
    "tf = 5000\n",
    "plt.plot(T,[s[12] for s in sol_jit])\n",
    "# plt.plot(df[\"time\"],df[\"Mux(4)\"])\n",
    "#plt.xlim([t0,tf])"
   ]
  },
  {
   "cell_type": "markdown",
   "metadata": {},
   "source": [
    "Vary temeprature feedback coefficients"
   ]
  },
  {
   "cell_type": "code",
   "execution_count": 8,
   "metadata": {},
   "outputs": [
    {
     "name": "stdout",
     "output_type": "stream",
     "text": [
      "Generating, compiling, and loading C code.\n"
     ]
    },
    {
     "name": "stderr",
     "output_type": "stream",
     "text": [
      "/tmp/jitcxde_qybeq7d1/f.c: In function ‘eval_f’:\n",
      "/tmp/jitcxde_qybeq7d1/f.c:13:80: error: ‘external_input’ undeclared (first use in this function)\n",
      "   13 | set_dy(12, 4166.66666666667*current_y(12)*(-0.006611 + current_y(22) + past_y(-external_input + t, input_base_n, anchors(-external_input + t))) + 0.0124*current_y(13) + 0.0305*current_y(14) + 0.111*current_y(15) + 0.301*current_y(16) + 1.14*current_y(17) + 3.014*current_y(18));\n",
      "      |                                                                                ^~~~~~~~~~~~~~\n",
      "/tmp/jitcxde_qybeq7d1/jitced_1.c:336:36: note: in definition of macro ‘set_dy’\n",
      "  336 | # define set_dy(i, value) (dY[i] = value)\n",
      "      |                                    ^~~~~\n",
      "/tmp/jitcxde_qybeq7d1/f.c:13:72: note: in expansion of macro ‘past_y’\n",
      "   13 | set_dy(12, 4166.66666666667*current_y(12)*(-0.006611 + current_y(22) + past_y(-external_input + t, input_base_n, anchors(-external_input + t))) + 0.0124*current_y(13) + 0.0305*current_y(14) + 0.111*current_y(15) + 0.301*current_y(16) + 1.14*current_y(17) + 3.014*current_y(18));\n",
      "      |                                                                        ^~~~~~\n",
      "/tmp/jitcxde_qybeq7d1/f.c:13:80: note: each undeclared identifier is reported only once for each function it appears in\n",
      "   13 | set_dy(12, 4166.66666666667*current_y(12)*(-0.006611 + current_y(22) + past_y(-external_input + t, input_base_n, anchors(-external_input + t))) + 0.0124*current_y(13) + 0.0305*current_y(14) + 0.111*current_y(15) + 0.301*current_y(16) + 1.14*current_y(17) + 3.014*current_y(18));\n",
      "      |                                                                                ^~~~~~~~~~~~~~\n",
      "/tmp/jitcxde_qybeq7d1/jitced_1.c:336:36: note: in definition of macro ‘set_dy’\n",
      "  336 | # define set_dy(i, value) (dY[i] = value)\n",
      "      |                                    ^~~~~\n",
      "/tmp/jitcxde_qybeq7d1/f.c:13:72: note: in expansion of macro ‘past_y’\n",
      "   13 | set_dy(12, 4166.66666666667*current_y(12)*(-0.006611 + current_y(22) + past_y(-external_input + t, input_base_n, anchors(-external_input + t))) + 0.0124*current_y(13) + 0.0305*current_y(14) + 0.111*current_y(15) + 0.301*current_y(16) + 1.14*current_y(17) + 3.014*current_y(18));\n",
      "      |                                                                        ^~~~~~\n",
      "/tmp/jitcxde_qybeq7d1/f.c:13:100: error: ‘input_base_n’ undeclared (first use in this function)\n",
      "   13 | set_dy(12, 4166.66666666667*current_y(12)*(-0.006611 + current_y(22) + past_y(-external_input + t, input_base_n, anchors(-external_input + t))) + 0.0124*current_y(13) + 0.0305*current_y(14) + 0.111*current_y(15) + 0.301*current_y(16) + 1.14*current_y(17) + 3.014*current_y(18));\n",
      "      |                                                                                                    ^~~~~~~~~~~~\n",
      "/tmp/jitcxde_qybeq7d1/jitced_1.c:336:36: note: in definition of macro ‘set_dy’\n",
      "  336 | # define set_dy(i, value) (dY[i] = value)\n",
      "      |                                    ^~~~~\n",
      "/tmp/jitcxde_qybeq7d1/f.c:13:72: note: in expansion of macro ‘past_y’\n",
      "   13 | set_dy(12, 4166.66666666667*current_y(12)*(-0.006611 + current_y(22) + past_y(-external_input + t, input_base_n, anchors(-external_input + t))) + 0.0124*current_y(13) + 0.0305*current_y(14) + 0.111*current_y(15) + 0.301*current_y(16) + 1.14*current_y(17) + 3.014*current_y(18));\n",
      "      |                                                                        ^~~~~~\n"
     ]
    },
    {
     "ename": "AttributeError",
     "evalue": "'tuple' object has no attribute 'tb_frame'",
     "output_type": "error",
     "traceback": [
      "\u001b[0;31m---------------------------------------------------------------------------\u001b[0m",
      "\u001b[0;31mDistutilsExecError\u001b[0m                        Traceback (most recent call last)",
      "File \u001b[0;32m~/git/envs/thesis_env/lib/python3.11/site-packages/setuptools/_distutils/unixccompiler.py:186\u001b[0m, in \u001b[0;36mUnixCCompiler._compile\u001b[0;34m(self, obj, src, ext, cc_args, extra_postargs, pp_opts)\u001b[0m\n\u001b[1;32m    185\u001b[0m \u001b[38;5;28;01mtry\u001b[39;00m:\n\u001b[0;32m--> 186\u001b[0m     \u001b[38;5;28;43mself\u001b[39;49m\u001b[38;5;241;43m.\u001b[39;49m\u001b[43mspawn\u001b[49m\u001b[43m(\u001b[49m\u001b[43mcompiler_so\u001b[49m\u001b[43m \u001b[49m\u001b[38;5;241;43m+\u001b[39;49m\u001b[43m \u001b[49m\u001b[43mcc_args\u001b[49m\u001b[43m \u001b[49m\u001b[38;5;241;43m+\u001b[39;49m\u001b[43m \u001b[49m\u001b[43m[\u001b[49m\u001b[43msrc\u001b[49m\u001b[43m,\u001b[49m\u001b[43m \u001b[49m\u001b[38;5;124;43m'\u001b[39;49m\u001b[38;5;124;43m-o\u001b[39;49m\u001b[38;5;124;43m'\u001b[39;49m\u001b[43m,\u001b[49m\u001b[43m \u001b[49m\u001b[43mobj\u001b[49m\u001b[43m]\u001b[49m\u001b[43m \u001b[49m\u001b[38;5;241;43m+\u001b[39;49m\u001b[43m \u001b[49m\u001b[43mextra_postargs\u001b[49m\u001b[43m)\u001b[49m\n\u001b[1;32m    187\u001b[0m \u001b[38;5;28;01mexcept\u001b[39;00m DistutilsExecError \u001b[38;5;28;01mas\u001b[39;00m msg:\n",
      "File \u001b[0;32m~/git/envs/thesis_env/lib/python3.11/site-packages/setuptools/_distutils/ccompiler.py:1007\u001b[0m, in \u001b[0;36mCCompiler.spawn\u001b[0;34m(self, cmd, **kwargs)\u001b[0m\n\u001b[1;32m   1006\u001b[0m \u001b[38;5;28;01mdef\u001b[39;00m \u001b[38;5;21mspawn\u001b[39m(\u001b[38;5;28mself\u001b[39m, cmd, \u001b[38;5;241m*\u001b[39m\u001b[38;5;241m*\u001b[39mkwargs):\n\u001b[0;32m-> 1007\u001b[0m     \u001b[43mspawn\u001b[49m\u001b[43m(\u001b[49m\u001b[43mcmd\u001b[49m\u001b[43m,\u001b[49m\u001b[43m \u001b[49m\u001b[43mdry_run\u001b[49m\u001b[38;5;241;43m=\u001b[39;49m\u001b[38;5;28;43mself\u001b[39;49m\u001b[38;5;241;43m.\u001b[39;49m\u001b[43mdry_run\u001b[49m\u001b[43m,\u001b[49m\u001b[43m \u001b[49m\u001b[38;5;241;43m*\u001b[39;49m\u001b[38;5;241;43m*\u001b[39;49m\u001b[43mkwargs\u001b[49m\u001b[43m)\u001b[49m\n",
      "File \u001b[0;32m~/git/envs/thesis_env/lib/python3.11/site-packages/setuptools/_distutils/spawn.py:70\u001b[0m, in \u001b[0;36mspawn\u001b[0;34m(cmd, search_path, verbose, dry_run, env)\u001b[0m\n\u001b[1;32m     69\u001b[0m     cmd \u001b[38;5;241m=\u001b[39m cmd[\u001b[38;5;241m0\u001b[39m]\n\u001b[0;32m---> 70\u001b[0m \u001b[38;5;28;01mraise\u001b[39;00m DistutilsExecError(\n\u001b[1;32m     71\u001b[0m     \u001b[38;5;124m\"\u001b[39m\u001b[38;5;124mcommand \u001b[39m\u001b[38;5;132;01m{!r}\u001b[39;00m\u001b[38;5;124m failed with exit code \u001b[39m\u001b[38;5;132;01m{}\u001b[39;00m\u001b[38;5;124m\"\u001b[39m\u001b[38;5;241m.\u001b[39mformat(cmd, exitcode)\n\u001b[1;32m     72\u001b[0m )\n",
      "\u001b[0;31mDistutilsExecError\u001b[0m: command '/usr/bin/gcc' failed with exit code 1",
      "\nDuring handling of the above exception, another exception occurred:\n",
      "\u001b[0;31mCompileError\u001b[0m                              Traceback (most recent call last)",
      "File \u001b[0;32m~/git/envs/thesis_env/lib/python3.11/site-packages/setuptools/_distutils/core.py:201\u001b[0m, in \u001b[0;36mrun_commands\u001b[0;34m(dist)\u001b[0m\n\u001b[1;32m    200\u001b[0m \u001b[38;5;28;01mtry\u001b[39;00m:\n\u001b[0;32m--> 201\u001b[0m     \u001b[43mdist\u001b[49m\u001b[38;5;241;43m.\u001b[39;49m\u001b[43mrun_commands\u001b[49m\u001b[43m(\u001b[49m\u001b[43m)\u001b[49m\n\u001b[1;32m    202\u001b[0m \u001b[38;5;28;01mexcept\u001b[39;00m \u001b[38;5;167;01mKeyboardInterrupt\u001b[39;00m:\n",
      "File \u001b[0;32m~/git/envs/thesis_env/lib/python3.11/site-packages/setuptools/_distutils/dist.py:968\u001b[0m, in \u001b[0;36mDistribution.run_commands\u001b[0;34m(self)\u001b[0m\n\u001b[1;32m    967\u001b[0m \u001b[38;5;28;01mfor\u001b[39;00m cmd \u001b[38;5;129;01min\u001b[39;00m \u001b[38;5;28mself\u001b[39m\u001b[38;5;241m.\u001b[39mcommands:\n\u001b[0;32m--> 968\u001b[0m     \u001b[38;5;28;43mself\u001b[39;49m\u001b[38;5;241;43m.\u001b[39;49m\u001b[43mrun_command\u001b[49m\u001b[43m(\u001b[49m\u001b[43mcmd\u001b[49m\u001b[43m)\u001b[49m\n",
      "File \u001b[0;32m~/git/envs/thesis_env/lib/python3.11/site-packages/setuptools/dist.py:1217\u001b[0m, in \u001b[0;36mDistribution.run_command\u001b[0;34m(self, command)\u001b[0m\n\u001b[1;32m   1214\u001b[0m \u001b[38;5;66;03m# Postpone defaults until all explicit configuration is considered\u001b[39;00m\n\u001b[1;32m   1215\u001b[0m \u001b[38;5;66;03m# (setup() args, config files, command line and plugins)\u001b[39;00m\n\u001b[0;32m-> 1217\u001b[0m \u001b[38;5;28;43msuper\u001b[39;49m\u001b[43m(\u001b[49m\u001b[43m)\u001b[49m\u001b[38;5;241;43m.\u001b[39;49m\u001b[43mrun_command\u001b[49m\u001b[43m(\u001b[49m\u001b[43mcommand\u001b[49m\u001b[43m)\u001b[49m\n",
      "File \u001b[0;32m~/git/envs/thesis_env/lib/python3.11/site-packages/setuptools/_distutils/dist.py:987\u001b[0m, in \u001b[0;36mDistribution.run_command\u001b[0;34m(self, command)\u001b[0m\n\u001b[1;32m    986\u001b[0m cmd_obj\u001b[38;5;241m.\u001b[39mensure_finalized()\n\u001b[0;32m--> 987\u001b[0m \u001b[43mcmd_obj\u001b[49m\u001b[38;5;241;43m.\u001b[39;49m\u001b[43mrun\u001b[49m\u001b[43m(\u001b[49m\u001b[43m)\u001b[49m\n\u001b[1;32m    988\u001b[0m \u001b[38;5;28mself\u001b[39m\u001b[38;5;241m.\u001b[39mhave_run[command] \u001b[38;5;241m=\u001b[39m \u001b[38;5;241m1\u001b[39m\n",
      "File \u001b[0;32m~/git/envs/thesis_env/lib/python3.11/site-packages/setuptools/command/build_ext.py:84\u001b[0m, in \u001b[0;36mbuild_ext.run\u001b[0;34m(self)\u001b[0m\n\u001b[1;32m     83\u001b[0m old_inplace, \u001b[38;5;28mself\u001b[39m\u001b[38;5;241m.\u001b[39minplace \u001b[38;5;241m=\u001b[39m \u001b[38;5;28mself\u001b[39m\u001b[38;5;241m.\u001b[39minplace, \u001b[38;5;241m0\u001b[39m\n\u001b[0;32m---> 84\u001b[0m \u001b[43m_build_ext\u001b[49m\u001b[38;5;241;43m.\u001b[39;49m\u001b[43mrun\u001b[49m\u001b[43m(\u001b[49m\u001b[38;5;28;43mself\u001b[39;49m\u001b[43m)\u001b[49m\n\u001b[1;32m     85\u001b[0m \u001b[38;5;28mself\u001b[39m\u001b[38;5;241m.\u001b[39minplace \u001b[38;5;241m=\u001b[39m old_inplace\n",
      "File \u001b[0;32m~/git/envs/thesis_env/lib/python3.11/site-packages/setuptools/_distutils/command/build_ext.py:346\u001b[0m, in \u001b[0;36mbuild_ext.run\u001b[0;34m(self)\u001b[0m\n\u001b[1;32m    345\u001b[0m \u001b[38;5;66;03m# Now actually compile and link everything.\u001b[39;00m\n\u001b[0;32m--> 346\u001b[0m \u001b[38;5;28;43mself\u001b[39;49m\u001b[38;5;241;43m.\u001b[39;49m\u001b[43mbuild_extensions\u001b[49m\u001b[43m(\u001b[49m\u001b[43m)\u001b[49m\n",
      "File \u001b[0;32m~/git/envs/thesis_env/lib/python3.11/site-packages/jitcxde_common/_jitcxde.py:304\u001b[0m, in \u001b[0;36mjitcxde._compile_and_load.<locals>.build_ext_with_compiler_detection.build_extensions\u001b[0;34m(self)\u001b[0m\n\u001b[1;32m    302\u001b[0m \textension\u001b[38;5;241m.\u001b[39mextra_compile_args \u001b[38;5;241m=\u001b[39m determine_compile_args(is_msvc)\n\u001b[0;32m--> 304\u001b[0m \u001b[43mbuild_ext\u001b[49m\u001b[38;5;241;43m.\u001b[39;49m\u001b[43mbuild_extensions\u001b[49m\u001b[43m(\u001b[49m\u001b[38;5;28;43mself\u001b[39;49m\u001b[43m)\u001b[49m\n",
      "File \u001b[0;32m~/git/envs/thesis_env/lib/python3.11/site-packages/setuptools/_distutils/command/build_ext.py:466\u001b[0m, in \u001b[0;36mbuild_ext.build_extensions\u001b[0;34m(self)\u001b[0m\n\u001b[1;32m    465\u001b[0m \u001b[38;5;28;01melse\u001b[39;00m:\n\u001b[0;32m--> 466\u001b[0m     \u001b[38;5;28;43mself\u001b[39;49m\u001b[38;5;241;43m.\u001b[39;49m\u001b[43m_build_extensions_serial\u001b[49m\u001b[43m(\u001b[49m\u001b[43m)\u001b[49m\n",
      "File \u001b[0;32m~/git/envs/thesis_env/lib/python3.11/site-packages/setuptools/_distutils/command/build_ext.py:492\u001b[0m, in \u001b[0;36mbuild_ext._build_extensions_serial\u001b[0;34m(self)\u001b[0m\n\u001b[1;32m    491\u001b[0m \u001b[38;5;28;01mwith\u001b[39;00m \u001b[38;5;28mself\u001b[39m\u001b[38;5;241m.\u001b[39m_filter_build_errors(ext):\n\u001b[0;32m--> 492\u001b[0m     \u001b[38;5;28;43mself\u001b[39;49m\u001b[38;5;241;43m.\u001b[39;49m\u001b[43mbuild_extension\u001b[49m\u001b[43m(\u001b[49m\u001b[43mext\u001b[49m\u001b[43m)\u001b[49m\n",
      "File \u001b[0;32m~/git/envs/thesis_env/lib/python3.11/site-packages/setuptools/command/build_ext.py:246\u001b[0m, in \u001b[0;36mbuild_ext.build_extension\u001b[0;34m(self, ext)\u001b[0m\n\u001b[1;32m    245\u001b[0m     \u001b[38;5;28mself\u001b[39m\u001b[38;5;241m.\u001b[39mcompiler \u001b[38;5;241m=\u001b[39m \u001b[38;5;28mself\u001b[39m\u001b[38;5;241m.\u001b[39mshlib_compiler\n\u001b[0;32m--> 246\u001b[0m \u001b[43m_build_ext\u001b[49m\u001b[38;5;241;43m.\u001b[39;49m\u001b[43mbuild_extension\u001b[49m\u001b[43m(\u001b[49m\u001b[38;5;28;43mself\u001b[39;49m\u001b[43m,\u001b[49m\u001b[43m \u001b[49m\u001b[43mext\u001b[49m\u001b[43m)\u001b[49m\n\u001b[1;32m    247\u001b[0m \u001b[38;5;28;01mif\u001b[39;00m ext\u001b[38;5;241m.\u001b[39m_needs_stub:\n",
      "File \u001b[0;32m~/git/envs/thesis_env/lib/python3.11/site-packages/setuptools/_distutils/command/build_ext.py:547\u001b[0m, in \u001b[0;36mbuild_ext.build_extension\u001b[0;34m(self, ext)\u001b[0m\n\u001b[1;32m    545\u001b[0m     macros\u001b[38;5;241m.\u001b[39mappend((undef,))\n\u001b[0;32m--> 547\u001b[0m objects \u001b[38;5;241m=\u001b[39m \u001b[38;5;28;43mself\u001b[39;49m\u001b[38;5;241;43m.\u001b[39;49m\u001b[43mcompiler\u001b[49m\u001b[38;5;241;43m.\u001b[39;49m\u001b[43mcompile\u001b[49m\u001b[43m(\u001b[49m\n\u001b[1;32m    548\u001b[0m \u001b[43m    \u001b[49m\u001b[43msources\u001b[49m\u001b[43m,\u001b[49m\n\u001b[1;32m    549\u001b[0m \u001b[43m    \u001b[49m\u001b[43moutput_dir\u001b[49m\u001b[38;5;241;43m=\u001b[39;49m\u001b[38;5;28;43mself\u001b[39;49m\u001b[38;5;241;43m.\u001b[39;49m\u001b[43mbuild_temp\u001b[49m\u001b[43m,\u001b[49m\n\u001b[1;32m    550\u001b[0m \u001b[43m    \u001b[49m\u001b[43mmacros\u001b[49m\u001b[38;5;241;43m=\u001b[39;49m\u001b[43mmacros\u001b[49m\u001b[43m,\u001b[49m\n\u001b[1;32m    551\u001b[0m \u001b[43m    \u001b[49m\u001b[43minclude_dirs\u001b[49m\u001b[38;5;241;43m=\u001b[39;49m\u001b[43mext\u001b[49m\u001b[38;5;241;43m.\u001b[39;49m\u001b[43minclude_dirs\u001b[49m\u001b[43m,\u001b[49m\n\u001b[1;32m    552\u001b[0m \u001b[43m    \u001b[49m\u001b[43mdebug\u001b[49m\u001b[38;5;241;43m=\u001b[39;49m\u001b[38;5;28;43mself\u001b[39;49m\u001b[38;5;241;43m.\u001b[39;49m\u001b[43mdebug\u001b[49m\u001b[43m,\u001b[49m\n\u001b[1;32m    553\u001b[0m \u001b[43m    \u001b[49m\u001b[43mextra_postargs\u001b[49m\u001b[38;5;241;43m=\u001b[39;49m\u001b[43mextra_args\u001b[49m\u001b[43m,\u001b[49m\n\u001b[1;32m    554\u001b[0m \u001b[43m    \u001b[49m\u001b[43mdepends\u001b[49m\u001b[38;5;241;43m=\u001b[39;49m\u001b[43mext\u001b[49m\u001b[38;5;241;43m.\u001b[39;49m\u001b[43mdepends\u001b[49m\u001b[43m,\u001b[49m\n\u001b[1;32m    555\u001b[0m \u001b[43m\u001b[49m\u001b[43m)\u001b[49m\n\u001b[1;32m    557\u001b[0m \u001b[38;5;66;03m# XXX outdated variable, kept here in case third-part code\u001b[39;00m\n\u001b[1;32m    558\u001b[0m \u001b[38;5;66;03m# needs it.\u001b[39;00m\n",
      "File \u001b[0;32m~/git/envs/thesis_env/lib/python3.11/site-packages/setuptools/_distutils/ccompiler.py:599\u001b[0m, in \u001b[0;36mCCompiler.compile\u001b[0;34m(self, sources, output_dir, macros, include_dirs, debug, extra_preargs, extra_postargs, depends)\u001b[0m\n\u001b[1;32m    598\u001b[0m         \u001b[38;5;28;01mcontinue\u001b[39;00m\n\u001b[0;32m--> 599\u001b[0m     \u001b[38;5;28;43mself\u001b[39;49m\u001b[38;5;241;43m.\u001b[39;49m\u001b[43m_compile\u001b[49m\u001b[43m(\u001b[49m\u001b[43mobj\u001b[49m\u001b[43m,\u001b[49m\u001b[43m \u001b[49m\u001b[43msrc\u001b[49m\u001b[43m,\u001b[49m\u001b[43m \u001b[49m\u001b[43mext\u001b[49m\u001b[43m,\u001b[49m\u001b[43m \u001b[49m\u001b[43mcc_args\u001b[49m\u001b[43m,\u001b[49m\u001b[43m \u001b[49m\u001b[43mextra_postargs\u001b[49m\u001b[43m,\u001b[49m\u001b[43m \u001b[49m\u001b[43mpp_opts\u001b[49m\u001b[43m)\u001b[49m\n\u001b[1;32m    601\u001b[0m \u001b[38;5;66;03m# Return *all* object filenames, not just the ones we just built.\u001b[39;00m\n",
      "File \u001b[0;32m~/git/envs/thesis_env/lib/python3.11/site-packages/setuptools/_distutils/unixccompiler.py:188\u001b[0m, in \u001b[0;36mUnixCCompiler._compile\u001b[0;34m(self, obj, src, ext, cc_args, extra_postargs, pp_opts)\u001b[0m\n\u001b[1;32m    187\u001b[0m \u001b[38;5;28;01mexcept\u001b[39;00m DistutilsExecError \u001b[38;5;28;01mas\u001b[39;00m msg:\n\u001b[0;32m--> 188\u001b[0m     \u001b[38;5;28;01mraise\u001b[39;00m CompileError(msg)\n",
      "\u001b[0;31mCompileError\u001b[0m: command '/usr/bin/gcc' failed with exit code 1",
      "\nDuring handling of the above exception, another exception occurred:\n",
      "\u001b[0;31mSystemExit\u001b[0m                                Traceback (most recent call last)",
      "    \u001b[0;31m[... skipping hidden 1 frame]\u001b[0m\n",
      "Cell \u001b[0;32mIn[8], line 32\u001b[0m\n\u001b[1;32m     31\u001b[0m \u001b[38;5;28;01mfor\u001b[39;00m t_x \u001b[38;5;129;01min\u001b[39;00m T:\n\u001b[0;32m---> 32\u001b[0m     sol_i\u001b[38;5;241m.\u001b[39mappend(\u001b[43mDDE\u001b[49m\u001b[38;5;241;43m.\u001b[39;49m\u001b[43mintegrate\u001b[49m\u001b[43m(\u001b[49m\u001b[43mt_x\u001b[49m\u001b[43m)\u001b[49m)\n\u001b[1;32m     33\u001b[0m sols\u001b[38;5;241m.\u001b[39mappend(sol_i)\n",
      "File \u001b[0;32m~/git/envs/thesis_env/lib/python3.11/site-packages/jitcdde/_jitcdde.py:789\u001b[0m, in \u001b[0;36mjitcdde.integrate\u001b[0;34m(self, target_time)\u001b[0m\n\u001b[1;32m    775\u001b[0m \u001b[38;5;250m\u001b[39m\u001b[38;5;124;03m\"\"\"\u001b[39;00m\n\u001b[1;32m    776\u001b[0m \u001b[38;5;124;03mTries to evolve the dynamics.\u001b[39;00m\n\u001b[1;32m    777\u001b[0m \u001b[38;5;124;03m\u001b[39;00m\n\u001b[0;32m   (...)\u001b[0m\n\u001b[1;32m    787\u001b[0m \u001b[38;5;124;03m\tthe computed state of the system at `target_time`.\u001b[39;00m\n\u001b[1;32m    788\u001b[0m \u001b[38;5;124;03m\"\"\"\u001b[39;00m\n\u001b[0;32m--> 789\u001b[0m \u001b[38;5;28;43mself\u001b[39;49m\u001b[38;5;241;43m.\u001b[39;49m\u001b[43m_initiate\u001b[49m\u001b[43m(\u001b[49m\u001b[43m)\u001b[49m\n\u001b[1;32m    791\u001b[0m \u001b[38;5;28;01mif\u001b[39;00m \u001b[38;5;28mself\u001b[39m\u001b[38;5;241m.\u001b[39mDDE\u001b[38;5;241m.\u001b[39mget_t() \u001b[38;5;241m>\u001b[39m target_time:\n",
      "File \u001b[0;32m~/git/envs/thesis_env/lib/python3.11/site-packages/jitcdde/_jitcdde.py:546\u001b[0m, in \u001b[0;36mjitcdde._initiate\u001b[0;34m(self)\u001b[0m\n\u001b[1;32m    545\u001b[0m \u001b[38;5;28;01mif\u001b[39;00m \u001b[38;5;28mself\u001b[39m\u001b[38;5;241m.\u001b[39mcompile_attempt \u001b[38;5;129;01mis\u001b[39;00m \u001b[38;5;28;01mNone\u001b[39;00m:\n\u001b[0;32m--> 546\u001b[0m \t\u001b[38;5;28;43mself\u001b[39;49m\u001b[38;5;241;43m.\u001b[39;49m\u001b[43m_attempt_compilation\u001b[49m\u001b[43m(\u001b[49m\u001b[43m)\u001b[49m\n\u001b[1;32m    548\u001b[0m \u001b[38;5;28;01mif\u001b[39;00m \u001b[38;5;28mself\u001b[39m\u001b[38;5;241m.\u001b[39mDDE \u001b[38;5;129;01mis\u001b[39;00m \u001b[38;5;28;01mNone\u001b[39;00m:\n",
      "File \u001b[0;32m~/git/envs/thesis_env/lib/python3.11/site-packages/jitcxde_common/_jitcxde.py:242\u001b[0m, in \u001b[0;36mjitcxde._attempt_compilation\u001b[0;34m(self, reset)\u001b[0m\n\u001b[1;32m    241\u001b[0m \u001b[38;5;28;01mtry\u001b[39;00m:\n\u001b[0;32m--> 242\u001b[0m \t\u001b[38;5;28;43mself\u001b[39;49m\u001b[38;5;241;43m.\u001b[39;49m\u001b[43mcompile_C\u001b[49m\u001b[43m(\u001b[49m\u001b[43m)\u001b[49m\n\u001b[1;32m    243\u001b[0m \u001b[38;5;28;01mexcept\u001b[39;00m \u001b[38;5;167;01mException\u001b[39;00m:\n",
      "File \u001b[0;32m~/git/envs/thesis_env/lib/python3.11/site-packages/jitcdde/_jitcdde.py:542\u001b[0m, in \u001b[0;36mjitcdde.compile_C\u001b[0;34m(self, simplify, do_cse, chunk_size, extra_compile_args, extra_link_args, verbose, modulename, omp)\u001b[0m\n\u001b[1;32m    529\u001b[0m \u001b[38;5;28mself\u001b[39m\u001b[38;5;241m.\u001b[39m_render_template(\n\u001b[1;32m    530\u001b[0m \t\tn \u001b[38;5;241m=\u001b[39m \u001b[38;5;28mself\u001b[39m\u001b[38;5;241m.\u001b[39mn,\n\u001b[1;32m    531\u001b[0m \t\tnumber_of_helpers \u001b[38;5;241m=\u001b[39m helper_i,\n\u001b[0;32m   (...)\u001b[0m\n\u001b[1;32m    539\u001b[0m \t\tcallbacks \u001b[38;5;241m=\u001b[39m [(fun\u001b[38;5;241m.\u001b[39mname,n_args) \u001b[38;5;28;01mfor\u001b[39;00m fun,_,n_args \u001b[38;5;129;01min\u001b[39;00m \u001b[38;5;28mself\u001b[39m\u001b[38;5;241m.\u001b[39mcallback_functions],\n\u001b[1;32m    540\u001b[0m \t)\n\u001b[0;32m--> 542\u001b[0m \u001b[38;5;28;43mself\u001b[39;49m\u001b[38;5;241;43m.\u001b[39;49m\u001b[43m_compile_and_load\u001b[49m\u001b[43m(\u001b[49m\u001b[43mverbose\u001b[49m\u001b[43m,\u001b[49m\u001b[43mextra_compile_args\u001b[49m\u001b[43m,\u001b[49m\u001b[43mextra_link_args\u001b[49m\u001b[43m,\u001b[49m\u001b[43momp\u001b[49m\u001b[43m)\u001b[49m\n",
      "File \u001b[0;32m~/git/envs/thesis_env/lib/python3.11/site-packages/jitcxde_common/_jitcxde.py:306\u001b[0m, in \u001b[0;36mjitcxde._compile_and_load\u001b[0;34m(self, verbose, extra_compile_args, extra_link_args, omp)\u001b[0m\n\u001b[1;32m    304\u001b[0m \t\tbuild_ext\u001b[38;5;241m.\u001b[39mbuild_extensions(\u001b[38;5;28mself\u001b[39m)\n\u001b[0;32m--> 306\u001b[0m \u001b[43msetup\u001b[49m\u001b[43m(\u001b[49m\n\u001b[1;32m    307\u001b[0m \u001b[43m\t\t\u001b[49m\u001b[43mname\u001b[49m\u001b[43m \u001b[49m\u001b[38;5;241;43m=\u001b[39;49m\u001b[43m \u001b[49m\u001b[38;5;28;43mself\u001b[39;49m\u001b[38;5;241;43m.\u001b[39;49m\u001b[43m_modulename\u001b[49m\u001b[43m,\u001b[49m\n\u001b[1;32m    308\u001b[0m \u001b[43m\t\t\u001b[49m\u001b[43mext_modules\u001b[49m\u001b[43m \u001b[49m\u001b[38;5;241;43m=\u001b[39;49m\u001b[43m \u001b[49m\u001b[43m[\u001b[49m\u001b[43mextension\u001b[49m\u001b[43m]\u001b[49m\u001b[43m,\u001b[49m\n\u001b[1;32m    309\u001b[0m \u001b[43m\t\t\u001b[49m\u001b[43mscript_args\u001b[49m\u001b[43m \u001b[49m\u001b[38;5;241;43m=\u001b[39;49m\u001b[43m \u001b[49m\u001b[43mscript_args\u001b[49m\u001b[43m,\u001b[49m\n\u001b[1;32m    310\u001b[0m \u001b[43m\t\t\u001b[49m\u001b[43mverbose\u001b[49m\u001b[43m \u001b[49m\u001b[38;5;241;43m=\u001b[39;49m\u001b[43m \u001b[49m\u001b[43mverbose\u001b[49m\u001b[43m,\u001b[49m\n\u001b[1;32m    311\u001b[0m \u001b[43m\t\t\u001b[49m\u001b[43mcmdclass\u001b[49m\u001b[43m \u001b[49m\u001b[38;5;241;43m=\u001b[39;49m\u001b[43m \u001b[49m\u001b[43m{\u001b[49m\u001b[38;5;124;43m'\u001b[39;49m\u001b[38;5;124;43mbuild_ext\u001b[39;49m\u001b[38;5;124;43m'\u001b[39;49m\u001b[43m:\u001b[49m\u001b[43mbuild_ext_with_compiler_detection\u001b[49m\u001b[43m}\u001b[49m\n\u001b[1;32m    312\u001b[0m \u001b[43m\t\u001b[49m\u001b[43m)\u001b[49m\n\u001b[1;32m    314\u001b[0m \u001b[38;5;28mself\u001b[39m\u001b[38;5;241m.\u001b[39mjitced \u001b[38;5;241m=\u001b[39m find_and_load_module(\u001b[38;5;28mself\u001b[39m\u001b[38;5;241m.\u001b[39m_modulename,\u001b[38;5;28mself\u001b[39m\u001b[38;5;241m.\u001b[39m_tmpfile())\n",
      "File \u001b[0;32m~/git/envs/thesis_env/lib/python3.11/site-packages/setuptools/__init__.py:87\u001b[0m, in \u001b[0;36msetup\u001b[0;34m(**attrs)\u001b[0m\n\u001b[1;32m     86\u001b[0m _install_setup_requires(attrs)\n\u001b[0;32m---> 87\u001b[0m \u001b[38;5;28;01mreturn\u001b[39;00m \u001b[43mdistutils\u001b[49m\u001b[38;5;241;43m.\u001b[39;49m\u001b[43mcore\u001b[49m\u001b[38;5;241;43m.\u001b[39;49m\u001b[43msetup\u001b[49m\u001b[43m(\u001b[49m\u001b[38;5;241;43m*\u001b[39;49m\u001b[38;5;241;43m*\u001b[39;49m\u001b[43mattrs\u001b[49m\u001b[43m)\u001b[49m\n",
      "File \u001b[0;32m~/git/envs/thesis_env/lib/python3.11/site-packages/setuptools/_distutils/core.py:185\u001b[0m, in \u001b[0;36msetup\u001b[0;34m(**attrs)\u001b[0m\n\u001b[1;32m    184\u001b[0m \u001b[38;5;28;01mif\u001b[39;00m ok:\n\u001b[0;32m--> 185\u001b[0m     \u001b[38;5;28;01mreturn\u001b[39;00m \u001b[43mrun_commands\u001b[49m\u001b[43m(\u001b[49m\u001b[43mdist\u001b[49m\u001b[43m)\u001b[49m\n\u001b[1;32m    187\u001b[0m \u001b[38;5;28;01mreturn\u001b[39;00m dist\n",
      "File \u001b[0;32m~/git/envs/thesis_env/lib/python3.11/site-packages/setuptools/_distutils/core.py:215\u001b[0m, in \u001b[0;36mrun_commands\u001b[0;34m(dist)\u001b[0m\n\u001b[1;32m    214\u001b[0m     \u001b[38;5;28;01melse\u001b[39;00m:\n\u001b[0;32m--> 215\u001b[0m         \u001b[38;5;28;01mraise\u001b[39;00m \u001b[38;5;167;01mSystemExit\u001b[39;00m(\u001b[38;5;124m\"\u001b[39m\u001b[38;5;124merror: \u001b[39m\u001b[38;5;124m\"\u001b[39m \u001b[38;5;241m+\u001b[39m \u001b[38;5;28mstr\u001b[39m(msg))\n\u001b[1;32m    217\u001b[0m \u001b[38;5;28;01mreturn\u001b[39;00m dist\n",
      "\u001b[0;31mSystemExit\u001b[0m: error: command '/usr/bin/gcc' failed with exit code 1",
      "\nDuring handling of the above exception, another exception occurred:\n",
      "\u001b[0;31mAttributeError\u001b[0m                            Traceback (most recent call last)",
      "    \u001b[0;31m[... skipping hidden 1 frame]\u001b[0m\n",
      "File \u001b[0;32m~/git/envs/thesis_env/lib/python3.11/site-packages/IPython/core/interactiveshell.py:2121\u001b[0m, in \u001b[0;36mInteractiveShell.showtraceback\u001b[0;34m(self, exc_tuple, filename, tb_offset, exception_only, running_compiled_code)\u001b[0m\n\u001b[1;32m   2118\u001b[0m \u001b[38;5;28;01mif\u001b[39;00m exception_only:\n\u001b[1;32m   2119\u001b[0m     stb \u001b[38;5;241m=\u001b[39m [\u001b[38;5;124m'\u001b[39m\u001b[38;5;124mAn exception has occurred, use \u001b[39m\u001b[38;5;124m%\u001b[39m\u001b[38;5;124mtb to see \u001b[39m\u001b[38;5;124m'\u001b[39m\n\u001b[1;32m   2120\u001b[0m            \u001b[38;5;124m'\u001b[39m\u001b[38;5;124mthe full traceback.\u001b[39m\u001b[38;5;130;01m\\n\u001b[39;00m\u001b[38;5;124m'\u001b[39m]\n\u001b[0;32m-> 2121\u001b[0m     stb\u001b[38;5;241m.\u001b[39mextend(\u001b[38;5;28;43mself\u001b[39;49m\u001b[38;5;241;43m.\u001b[39;49m\u001b[43mInteractiveTB\u001b[49m\u001b[38;5;241;43m.\u001b[39;49m\u001b[43mget_exception_only\u001b[49m\u001b[43m(\u001b[49m\u001b[43metype\u001b[49m\u001b[43m,\u001b[49m\n\u001b[1;32m   2122\u001b[0m \u001b[43m                                                     \u001b[49m\u001b[43mvalue\u001b[49m\u001b[43m)\u001b[49m)\n\u001b[1;32m   2123\u001b[0m \u001b[38;5;28;01melse\u001b[39;00m:\n\u001b[1;32m   2125\u001b[0m     \u001b[38;5;28;01mdef\u001b[39;00m \u001b[38;5;21mcontains_exceptiongroup\u001b[39m(val):\n",
      "File \u001b[0;32m~/git/envs/thesis_env/lib/python3.11/site-packages/IPython/core/ultratb.py:710\u001b[0m, in \u001b[0;36mListTB.get_exception_only\u001b[0;34m(self, etype, value)\u001b[0m\n\u001b[1;32m    702\u001b[0m \u001b[38;5;28;01mdef\u001b[39;00m \u001b[38;5;21mget_exception_only\u001b[39m(\u001b[38;5;28mself\u001b[39m, etype, value):\n\u001b[1;32m    703\u001b[0m \u001b[38;5;250m    \u001b[39m\u001b[38;5;124;03m\"\"\"Only print the exception type and message, without a traceback.\u001b[39;00m\n\u001b[1;32m    704\u001b[0m \n\u001b[1;32m    705\u001b[0m \u001b[38;5;124;03m    Parameters\u001b[39;00m\n\u001b[0;32m   (...)\u001b[0m\n\u001b[1;32m    708\u001b[0m \u001b[38;5;124;03m    value : exception value\u001b[39;00m\n\u001b[1;32m    709\u001b[0m \u001b[38;5;124;03m    \"\"\"\u001b[39;00m\n\u001b[0;32m--> 710\u001b[0m     \u001b[38;5;28;01mreturn\u001b[39;00m \u001b[43mListTB\u001b[49m\u001b[38;5;241;43m.\u001b[39;49m\u001b[43mstructured_traceback\u001b[49m\u001b[43m(\u001b[49m\u001b[38;5;28;43mself\u001b[39;49m\u001b[43m,\u001b[49m\u001b[43m \u001b[49m\u001b[43metype\u001b[49m\u001b[43m,\u001b[49m\u001b[43m \u001b[49m\u001b[43mvalue\u001b[49m\u001b[43m)\u001b[49m\n",
      "File \u001b[0;32m~/git/envs/thesis_env/lib/python3.11/site-packages/IPython/core/ultratb.py:568\u001b[0m, in \u001b[0;36mListTB.structured_traceback\u001b[0;34m(self, etype, evalue, etb, tb_offset, context)\u001b[0m\n\u001b[1;32m    565\u001b[0m     chained_exc_ids\u001b[38;5;241m.\u001b[39madd(\u001b[38;5;28mid\u001b[39m(exception[\u001b[38;5;241m1\u001b[39m]))\n\u001b[1;32m    566\u001b[0m     chained_exceptions_tb_offset \u001b[38;5;241m=\u001b[39m \u001b[38;5;241m0\u001b[39m\n\u001b[1;32m    567\u001b[0m     out_list \u001b[38;5;241m=\u001b[39m (\n\u001b[0;32m--> 568\u001b[0m         \u001b[38;5;28;43mself\u001b[39;49m\u001b[38;5;241;43m.\u001b[39;49m\u001b[43mstructured_traceback\u001b[49m\u001b[43m(\u001b[49m\n\u001b[1;32m    569\u001b[0m \u001b[43m            \u001b[49m\u001b[43metype\u001b[49m\u001b[43m,\u001b[49m\n\u001b[1;32m    570\u001b[0m \u001b[43m            \u001b[49m\u001b[43mevalue\u001b[49m\u001b[43m,\u001b[49m\n\u001b[1;32m    571\u001b[0m \u001b[43m            \u001b[49m\u001b[43m(\u001b[49m\u001b[43metb\u001b[49m\u001b[43m,\u001b[49m\u001b[43m \u001b[49m\u001b[43mchained_exc_ids\u001b[49m\u001b[43m)\u001b[49m\u001b[43m,\u001b[49m\u001b[43m  \u001b[49m\u001b[38;5;66;43;03m# type: ignore\u001b[39;49;00m\n\u001b[1;32m    572\u001b[0m \u001b[43m            \u001b[49m\u001b[43mchained_exceptions_tb_offset\u001b[49m\u001b[43m,\u001b[49m\n\u001b[1;32m    573\u001b[0m \u001b[43m            \u001b[49m\u001b[43mcontext\u001b[49m\u001b[43m,\u001b[49m\n\u001b[1;32m    574\u001b[0m \u001b[43m        \u001b[49m\u001b[43m)\u001b[49m\n\u001b[1;32m    575\u001b[0m         \u001b[38;5;241m+\u001b[39m chained_exception_message\n\u001b[1;32m    576\u001b[0m         \u001b[38;5;241m+\u001b[39m out_list)\n\u001b[1;32m    578\u001b[0m \u001b[38;5;28;01mreturn\u001b[39;00m out_list\n",
      "File \u001b[0;32m~/git/envs/thesis_env/lib/python3.11/site-packages/IPython/core/ultratb.py:1435\u001b[0m, in \u001b[0;36mAutoFormattedTB.structured_traceback\u001b[0;34m(self, etype, evalue, etb, tb_offset, number_of_lines_of_context)\u001b[0m\n\u001b[1;32m   1433\u001b[0m \u001b[38;5;28;01melse\u001b[39;00m:\n\u001b[1;32m   1434\u001b[0m     \u001b[38;5;28mself\u001b[39m\u001b[38;5;241m.\u001b[39mtb \u001b[38;5;241m=\u001b[39m etb\n\u001b[0;32m-> 1435\u001b[0m \u001b[38;5;28;01mreturn\u001b[39;00m \u001b[43mFormattedTB\u001b[49m\u001b[38;5;241;43m.\u001b[39;49m\u001b[43mstructured_traceback\u001b[49m\u001b[43m(\u001b[49m\n\u001b[1;32m   1436\u001b[0m \u001b[43m    \u001b[49m\u001b[38;5;28;43mself\u001b[39;49m\u001b[43m,\u001b[49m\u001b[43m \u001b[49m\u001b[43metype\u001b[49m\u001b[43m,\u001b[49m\u001b[43m \u001b[49m\u001b[43mevalue\u001b[49m\u001b[43m,\u001b[49m\u001b[43m \u001b[49m\u001b[43metb\u001b[49m\u001b[43m,\u001b[49m\u001b[43m \u001b[49m\u001b[43mtb_offset\u001b[49m\u001b[43m,\u001b[49m\u001b[43m \u001b[49m\u001b[43mnumber_of_lines_of_context\u001b[49m\n\u001b[1;32m   1437\u001b[0m \u001b[43m\u001b[49m\u001b[43m)\u001b[49m\n",
      "File \u001b[0;32m~/git/envs/thesis_env/lib/python3.11/site-packages/IPython/core/ultratb.py:1326\u001b[0m, in \u001b[0;36mFormattedTB.structured_traceback\u001b[0;34m(self, etype, value, tb, tb_offset, number_of_lines_of_context)\u001b[0m\n\u001b[1;32m   1323\u001b[0m mode \u001b[38;5;241m=\u001b[39m \u001b[38;5;28mself\u001b[39m\u001b[38;5;241m.\u001b[39mmode\n\u001b[1;32m   1324\u001b[0m \u001b[38;5;28;01mif\u001b[39;00m mode \u001b[38;5;129;01min\u001b[39;00m \u001b[38;5;28mself\u001b[39m\u001b[38;5;241m.\u001b[39mverbose_modes:\n\u001b[1;32m   1325\u001b[0m     \u001b[38;5;66;03m# Verbose modes need a full traceback\u001b[39;00m\n\u001b[0;32m-> 1326\u001b[0m     \u001b[38;5;28;01mreturn\u001b[39;00m \u001b[43mVerboseTB\u001b[49m\u001b[38;5;241;43m.\u001b[39;49m\u001b[43mstructured_traceback\u001b[49m\u001b[43m(\u001b[49m\n\u001b[1;32m   1327\u001b[0m \u001b[43m        \u001b[49m\u001b[38;5;28;43mself\u001b[39;49m\u001b[43m,\u001b[49m\u001b[43m \u001b[49m\u001b[43metype\u001b[49m\u001b[43m,\u001b[49m\u001b[43m \u001b[49m\u001b[43mvalue\u001b[49m\u001b[43m,\u001b[49m\u001b[43m \u001b[49m\u001b[43mtb\u001b[49m\u001b[43m,\u001b[49m\u001b[43m \u001b[49m\u001b[43mtb_offset\u001b[49m\u001b[43m,\u001b[49m\u001b[43m \u001b[49m\u001b[43mnumber_of_lines_of_context\u001b[49m\n\u001b[1;32m   1328\u001b[0m \u001b[43m    \u001b[49m\u001b[43m)\u001b[49m\n\u001b[1;32m   1329\u001b[0m \u001b[38;5;28;01melif\u001b[39;00m mode \u001b[38;5;241m==\u001b[39m \u001b[38;5;124m'\u001b[39m\u001b[38;5;124mMinimal\u001b[39m\u001b[38;5;124m'\u001b[39m:\n\u001b[1;32m   1330\u001b[0m     \u001b[38;5;28;01mreturn\u001b[39;00m ListTB\u001b[38;5;241m.\u001b[39mget_exception_only(\u001b[38;5;28mself\u001b[39m, etype, value)\n",
      "File \u001b[0;32m~/git/envs/thesis_env/lib/python3.11/site-packages/IPython/core/ultratb.py:1173\u001b[0m, in \u001b[0;36mVerboseTB.structured_traceback\u001b[0;34m(self, etype, evalue, etb, tb_offset, number_of_lines_of_context)\u001b[0m\n\u001b[1;32m   1164\u001b[0m \u001b[38;5;28;01mdef\u001b[39;00m \u001b[38;5;21mstructured_traceback\u001b[39m(\n\u001b[1;32m   1165\u001b[0m     \u001b[38;5;28mself\u001b[39m,\n\u001b[1;32m   1166\u001b[0m     etype: \u001b[38;5;28mtype\u001b[39m,\n\u001b[0;32m   (...)\u001b[0m\n\u001b[1;32m   1170\u001b[0m     number_of_lines_of_context: \u001b[38;5;28mint\u001b[39m \u001b[38;5;241m=\u001b[39m \u001b[38;5;241m5\u001b[39m,\n\u001b[1;32m   1171\u001b[0m ):\n\u001b[1;32m   1172\u001b[0m \u001b[38;5;250m    \u001b[39m\u001b[38;5;124;03m\"\"\"Return a nice text document describing the traceback.\"\"\"\u001b[39;00m\n\u001b[0;32m-> 1173\u001b[0m     formatted_exception \u001b[38;5;241m=\u001b[39m \u001b[38;5;28;43mself\u001b[39;49m\u001b[38;5;241;43m.\u001b[39;49m\u001b[43mformat_exception_as_a_whole\u001b[49m\u001b[43m(\u001b[49m\u001b[43metype\u001b[49m\u001b[43m,\u001b[49m\u001b[43m \u001b[49m\u001b[43mevalue\u001b[49m\u001b[43m,\u001b[49m\u001b[43m \u001b[49m\u001b[43metb\u001b[49m\u001b[43m,\u001b[49m\u001b[43m \u001b[49m\u001b[43mnumber_of_lines_of_context\u001b[49m\u001b[43m,\u001b[49m\n\u001b[1;32m   1174\u001b[0m \u001b[43m                                                           \u001b[49m\u001b[43mtb_offset\u001b[49m\u001b[43m)\u001b[49m\n\u001b[1;32m   1176\u001b[0m     colors \u001b[38;5;241m=\u001b[39m \u001b[38;5;28mself\u001b[39m\u001b[38;5;241m.\u001b[39mColors  \u001b[38;5;66;03m# just a shorthand + quicker name lookup\u001b[39;00m\n\u001b[1;32m   1177\u001b[0m     colorsnormal \u001b[38;5;241m=\u001b[39m colors\u001b[38;5;241m.\u001b[39mNormal  \u001b[38;5;66;03m# used a lot\u001b[39;00m\n",
      "File \u001b[0;32m~/git/envs/thesis_env/lib/python3.11/site-packages/IPython/core/ultratb.py:1063\u001b[0m, in \u001b[0;36mVerboseTB.format_exception_as_a_whole\u001b[0;34m(self, etype, evalue, etb, number_of_lines_of_context, tb_offset)\u001b[0m\n\u001b[1;32m   1060\u001b[0m \u001b[38;5;28;01massert\u001b[39;00m \u001b[38;5;28misinstance\u001b[39m(tb_offset, \u001b[38;5;28mint\u001b[39m)\n\u001b[1;32m   1061\u001b[0m head \u001b[38;5;241m=\u001b[39m \u001b[38;5;28mself\u001b[39m\u001b[38;5;241m.\u001b[39mprepare_header(\u001b[38;5;28mstr\u001b[39m(etype), \u001b[38;5;28mself\u001b[39m\u001b[38;5;241m.\u001b[39mlong_header)\n\u001b[1;32m   1062\u001b[0m records \u001b[38;5;241m=\u001b[39m (\n\u001b[0;32m-> 1063\u001b[0m     \u001b[38;5;28;43mself\u001b[39;49m\u001b[38;5;241;43m.\u001b[39;49m\u001b[43mget_records\u001b[49m\u001b[43m(\u001b[49m\u001b[43metb\u001b[49m\u001b[43m,\u001b[49m\u001b[43m \u001b[49m\u001b[43mnumber_of_lines_of_context\u001b[49m\u001b[43m,\u001b[49m\u001b[43m \u001b[49m\u001b[43mtb_offset\u001b[49m\u001b[43m)\u001b[49m \u001b[38;5;28;01mif\u001b[39;00m etb \u001b[38;5;28;01melse\u001b[39;00m []\n\u001b[1;32m   1064\u001b[0m )\n\u001b[1;32m   1066\u001b[0m frames \u001b[38;5;241m=\u001b[39m []\n\u001b[1;32m   1067\u001b[0m skipped \u001b[38;5;241m=\u001b[39m \u001b[38;5;241m0\u001b[39m\n",
      "File \u001b[0;32m~/git/envs/thesis_env/lib/python3.11/site-packages/IPython/core/ultratb.py:1131\u001b[0m, in \u001b[0;36mVerboseTB.get_records\u001b[0;34m(self, etb, number_of_lines_of_context, tb_offset)\u001b[0m\n\u001b[1;32m   1129\u001b[0m \u001b[38;5;28;01mwhile\u001b[39;00m cf \u001b[38;5;129;01mis\u001b[39;00m \u001b[38;5;129;01mnot\u001b[39;00m \u001b[38;5;28;01mNone\u001b[39;00m:\n\u001b[1;32m   1130\u001b[0m     \u001b[38;5;28;01mtry\u001b[39;00m:\n\u001b[0;32m-> 1131\u001b[0m         mod \u001b[38;5;241m=\u001b[39m inspect\u001b[38;5;241m.\u001b[39mgetmodule(\u001b[43mcf\u001b[49m\u001b[38;5;241;43m.\u001b[39;49m\u001b[43mtb_frame\u001b[49m)\n\u001b[1;32m   1132\u001b[0m         \u001b[38;5;28;01mif\u001b[39;00m mod \u001b[38;5;129;01mis\u001b[39;00m \u001b[38;5;129;01mnot\u001b[39;00m \u001b[38;5;28;01mNone\u001b[39;00m:\n\u001b[1;32m   1133\u001b[0m             mod_name \u001b[38;5;241m=\u001b[39m mod\u001b[38;5;241m.\u001b[39m\u001b[38;5;18m__name__\u001b[39m\n",
      "\u001b[0;31mAttributeError\u001b[0m: 'tuple' object has no attribute 'tb_frame'"
     ]
    }
   ],
   "source": [
    "# solution vectors\n",
    "sols = []\n",
    "sols = [sol_jit]\n",
    "\n",
    "# feedbacks\n",
    "factors_f = [1/2, 1/4, 1/8, 0]\n",
    "factors_g = [1/2, 1/4, 1/8, 0]\n",
    "\n",
    "for i in range(len(factors_f)):\n",
    "\n",
    "    # reinstantiate jitcdde objects\n",
    "    import sys\n",
    "    sys.modules.pop('jitcdde')\n",
    "    from jitcdde import jitcdde, y, t\n",
    "\n",
    "    # rho y(22)\n",
    "    a_f_i = factors_f[i]\n",
    "    a_g_i = factors_g[i]\n",
    "    rho = a_f_i*(a_f/2)*(T_cf1 + T_cf2) + a_g_i*(a_g)*(T_cg)\n",
    "\n",
    "    # instantiate jitcdde object\n",
    "    DDE = jitcdde([T_out_rc,T_out_air,T_hf1,T_hf2,T_hf3,T_hf4,T_ht1,T_ht2,T_hc1,\n",
    "                T_hc2,T_hc3,T_hc4,n,C1,C2,C3,C4,C5,C6,T_cg,T_cf1,T_cf2,rho])\n",
    "\n",
    "    # set initial conditions\n",
    "    DDE.constant_past([T0_rp, T0_rs, T0_p1,T0_p2, T0_p3, T0_p4, T0_t1, T0_t2, T0_s1, T0_s2, \n",
    "            T0_s3, T0_s4, n_frac0, C0[0], C0[1], C0[2], C0[3], C0[4], C0[5], \n",
    "            T0_g1, T0_f1, T0_f2,rho_initial])\n",
    "    \n",
    "    sol_i = []\n",
    "    for t_x in T:\n",
    "        sol_i.append(DDE.integrate(t_x))\n",
    "    sols.append(sol_i)"
   ]
  },
  {
   "cell_type": "code",
   "execution_count": null,
   "metadata": {},
   "outputs": [],
   "source": [
    "fig,axs = plt.subplots(2,3,figsize=(18,12))\n",
    "\n",
    "# fuel temps\n",
    "#axs[0,0].set_xlim([0,20])\n",
    "axs[0,0].plot(T,[s[20] for s in sols[0]],label=\"core 1\") \n",
    "axs[0,0].plot(T,[s[21] for s in sols[0]],label=\"core 2\") \n",
    "axs[0,0].plot(T,[s[2] for s in sols[0]],label=\"hx 1\")  \n",
    "axs[0,0].plot(T,[s[3] for s in sols[0]],label=\"hx 2\")\n",
    "axs[0,0].plot(T,[s[4] for s in sols[0]],label=\"hx 3\")\n",
    "axs[0,0].plot(T,[s[5] for s in sols[0]],label=\"hx 4\")  \n",
    "axs[0,0].legend()\n",
    "axs[0,0].set_title(\"Fuel Node Temperatures (C)\")\n",
    "axs[0,0].tick_params(\n",
    "    axis='x',          # changes apply to the x-axis\n",
    "    which='both',      # both major and minor ticks are affected\n",
    "    bottom=False,      # ticks along the bottom edge are off\n",
    "    top=False,         # ticks along the top edge are off\n",
    "    labelbottom=False) # labels along the bottom edge are off\n",
    "\n",
    "# coolant temps\n",
    "#axs[0,1].set_xlim([0,20])\n",
    "axs[0,1].plot(T,[s[8] for s in sols[0]],label=\"hx 1\") \n",
    "axs[0,1].plot(T,[s[9] for s in sols[0]],label=\"hx 2\") \n",
    "axs[0,1].plot(T,[s[10] for s in sols[0]],label=\"hx 3\")  \n",
    "axs[0,1].plot(T,[s[11] for s in sols[0]],label=\"hx 4\")\n",
    "axs[0,1].plot(T,[s[0] for s in sols[0]],label=\"r 1\")\n",
    "axs[0,1].legend()\n",
    "axs[0,1].set_title(\"Coolant Node Temperatures (C)\")\n",
    "axs[0,1].tick_params(\n",
    "    axis='x',          # changes apply to the x-axis\n",
    "    which='both',      # both major and minor ticks are affected\n",
    "    bottom=False,      # ticks along the bottom edge are off\n",
    "    top=False,         # ticks along the top edge are off\n",
    "    labelbottom=False) # labels along the bottom edge are off\n",
    "\n",
    "# tube node temps\n",
    "#axs[0,2].set_xlim([0,20])\n",
    "axs[0,2].plot(T,[s[6] for s in sols[0]],label=\"hx 1\") \n",
    "axs[0,2].plot(T,[s[7] for s in sols[0]],label=\"hx 2\") \n",
    "axs[0,2].legend()\n",
    "axs[0,2].set_title(\"Tube Node Temperatures (C)\")\n",
    "axs[0,2].tick_params(\n",
    "    axis='x',          # changes apply to the x-axis\n",
    "    which='both',      # both major and minor ticks are affected\n",
    "    bottom=False,      # ticks along the bottom edge are off\n",
    "    top=False,         # ticks along the top edge are off\n",
    "    labelbottom=False) # labels along the bottom edge are off\n",
    "\n",
    "# precursor concentrations\n",
    "#axs[1,2].set_xlim([0,20])\n",
    "axs[1,2].plot(T,[s[13] for s in sols[0]],label=\"C1\") \n",
    "axs[1,2].plot(T,[s[14] for s in sols[0]],label=\"C2\") \n",
    "axs[1,2].plot(T,[s[15] for s in sols[0]],label=\"C3\")  \n",
    "axs[1,2].plot(T,[s[16] for s in sols[0]],label=\"C4\")\n",
    "axs[1,2].plot(T,[s[17] for s in sols[0]],label=\"C5\")\n",
    "axs[1,2].plot(T,[s[18] for s in sols[0]],label=\"C6\")\n",
    "axs[1,2].legend()\n",
    "axs[1,2].set_xlabel(\"t (s)\")\n",
    "axs[1,2].set_yscale(\"log\")\n",
    "axs[1,2].set_ylabel(r\"concentration (1/cm$^3$)\")\n",
    "axs[1,2].legend(loc=\"right\")\n",
    "axs[1,2].set_title(\"Precursor Concentrations\")\n",
    "\n",
    "# multiplication factor temp\n",
    "#axs[1,0].set_xlim([0,20])\n",
    "axs[1,0].plot(T,[s[12] for s in sols[0]],label=\"n\") \n",
    "axs[1,0].set_xlabel(\"t (s)\")\n",
    "axs[1,0].set_title(r\"$n$\")\n",
    "axs[1,0].set_ylabel(r\"$\\frac{n}{n_0}$\")\n",
    "\n",
    "# reactivity\n",
    "#axs[1,1].set_xlim([0,20])\n",
    "axs[1,1].plot(T,[s[22] for s in sols[0]],label=\"n\") \n",
    "axs[1,1].set_xlabel(\"t (s)\")\n",
    "axs[1,1].set_title(r\"$\\rho$\")\n",
    "\n",
    "#plt.figure(figsize=(8,6))\n",
    "#plt.plot(T,[s[12] for s in sols[0]],label=r\"$(\\alpha_f,\\alpha_g) = $ (-8.71,-6.66) pcm\")\n",
    "#plt.plot(T,[s[12] for s in sols[1]],label=r\"$(\\alpha_f,\\alpha_g) = $ (-4.36,-3.33) pcm\")\n",
    "#plt.plot(T,[s[12] for s in sols[2]],label=r\"$(\\alpha_f,\\alpha_g) = $ (-2.18,-1.67) pcm\")\n",
    "#plt.plot(T,[s[12] for s in sols[3]],label=r\"$(\\alpha_f,\\alpha_g) = $ (-1.09,-0.83) pcm\")\n",
    "#plt.plot(T,[s[12] for s in sols[4]],label=r\"$(\\alpha_f,\\alpha_g) = $ (0.0,0.0) pcm\")\n",
    "#plt.xlabel(\"t (s)\")\n",
    "#plt.ylabel(r\"$n/n_0$\",rotation=0)\n",
    "#plt.legend()\n",
    "#plt.ylim([0,20])\n",
    "#plt.xlim([0,500])\n",
    "#plt.title(r\"Reactor Response vs $\\alpha$\")"
   ]
  },
  {
   "cell_type": "code",
   "execution_count": null,
   "metadata": {},
   "outputs": [],
   "source": [
    "# heat exchanger energy extraction\n",
    "p_in = [(W_p*scp_f*s[21]) for s in sols[0]]\n",
    "p_out = [(W_p*scp_f*s[5]) for s in sols[0]]\n",
    "extracted = np.subtract(p_in,p_out)\n",
    "plt.plot(extracted)"
   ]
  }
 ],
 "metadata": {
  "kernelspec": {
   "display_name": "thesis_env",
   "language": "python",
   "name": "python3"
  },
  "language_info": {
   "codemirror_mode": {
    "name": "ipython",
    "version": 3
   },
   "file_extension": ".py",
   "mimetype": "text/x-python",
   "name": "python",
   "nbconvert_exporter": "python",
   "pygments_lexer": "ipython3",
   "version": "3.11.6"
  },
  "orig_nbformat": 4
 },
 "nbformat": 4,
 "nbformat_minor": 2
}
