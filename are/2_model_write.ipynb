{
 "cells": [
  {
   "cell_type": "code",
   "execution_count": 1,
   "metadata": {},
   "outputs": [],
   "source": [
    "from jitcdde import jitcdde, y, t\n",
    "from parameters import *\n",
    "import numpy as np\n",
    "import matplotlib.pyplot as plt\n",
    "import pandas as pd"
   ]
  },
  {
   "cell_type": "markdown",
   "metadata": {},
   "source": [
    "Define system"
   ]
  },
  {
   "cell_type": "code",
   "execution_count": 2,
   "metadata": {},
   "outputs": [],
   "source": [
    "# %%\n",
    "# CORE\n",
    "# fuel nodes\n",
    "T_c_f1 = W_f/(m_f_c)*(y(7,t-tau_hx_c_f)-y(0)) + (k_f1*P*y(26)/mcp_f_c) + (hA_ft_c*(y(2)-y(0))/mcp_f_c)         # T_cf1: y(0)\n",
    "T_c_f2 = W_f/(m_f_c)*(y(0)-y(1)) + (k_f2*P*y(26)/mcp_f_c) + (hA_ft_c*(y(2)-y(1))/mcp_f_c)                      # T_cf2: y(1)\n",
    "\n",
    "# tubes\n",
    "T_c_t1=(hA_ft_c/mcp_t_c)*((y(0)-y(2))+(y(1)-y(2)))+(hA_tc_c/mcp_t_c)*((y(3)-y(2))+(y(4)-y(2)))                 # T_c_t1: y(2)\n",
    "\n",
    "# coolant \n",
    "T_c_c1 = W_c/m_c_c*(y(12,t-tau_hx_c_c)-y(3))+(hA_tc_c*k_1*(y(2)-y(3))/mcp_c_c)+((hA_mc_c)/mcp_c_c)*((y(5)-y(3)))# T_c_c1: y(3)\n",
    "T_c_c2 = W_c/m_c_c*(y(3)-y(4)) + (hA_tc_c*k_2*(y(2)-y(4))/mcp_c_c)+((hA_mc_c)/mcp_c_c)*((y(5)-y(4)))            # T_c_c1: y(4)  \n",
    "\n",
    "# moderator \n",
    "T_c_m = (hA_mc_c/mcp_m_c)*((y(3)-y(5))+(y(4)-y(5)))+(k_m*P*y(26)/mcp_m_c)                                      #T_c_b: y(5)\n",
    "\n",
    "# FUEL-HELIUM HX\n",
    "# fuel nodes\n",
    "T_hfh_f1 = W_f/m_f_hx*(y(1,t-tau_c_hx_f)-y(6)) + (hA_ft_hx*k_1*(y(8)-y(6))/mcp_f_hx)                           # T_cf1: y(6)\n",
    "T_hfh_f2 = W_f/m_f_hx*(y(6)-y(7)) + (hA_ft_hx*k_2*(y(8)-y(7))/mcp_f_hx)                                        # T_cf2: y(7)\n",
    "\n",
    "# tubes\n",
    "T_hfh_t1=(hA_ft_hx/mcp_t_hx)*((y(6)-y(8))+(y(7)-y(8)))+(hA_th_hx/mcp_t_hx)*((y(9)-y(8))+(y(10)-y(8)))           # T_ht1: y(8)\n",
    "\n",
    "# helium\n",
    "T_hfh_h1 = W_h_fh/(m_h_hxfh)*(y(17,t-tau_h)-y(9)) + (hA_th_hx*k_1*(y(8)-y(9))/mcp_h_hxfh)                # T_cc1: y(9) \n",
    "T_hfh_h2 = W_h_fh/(m_h_hxfh)*(y(9)-y(10)) + (hA_th_hx*k_2*(y(8)-y(10))/mcp_h_hxfh)                              # T_cc1: y(10) \n",
    "\n",
    "\n",
    "# COOLANT-HELIUM HX\n",
    "# fuel nodes\n",
    "T_hch_c1 = W_c/m_c_hx*(y(4,t-tau_c_hx_f)-y(11)) + (hA_ct_hx*k_1*(y(13)-y(11))/mcp_c_c)                        # T_cf1: y(11)\n",
    "T_hch_c2 = W_c/m_c_hx*(y(11)-y(12)) + (hA_ct_hx*k_2*(y(13)-y(12))/mcp_c_c)                                    # T_cf2: y(12)\n",
    "\n",
    "# tubes\n",
    "T_hch_t1 = (hA_ct_hx/mcp_t_hx)*((y(11)-y(13))+(y(12)-y(13)))+(hA_th_hx/mcp_t_hx)*((y(14)-y(13))+(y(15)-y(13)))   # T_ht1: y(13)\n",
    "\n",
    "# helium\n",
    "T_hch_h1 = W_h_ch/m_h_hxfh*(y(17,t-tau_h)-y(14)) + (hA_th_hx*k_1*(y(13)-y(14))/mcp_h_hxfh)                   # T_cc1: y(14) \n",
    "T_hch_h2 = W_h_ch/m_h_hxfh*(y(14)-y(15)) + (hA_th_hx*k_2*(y(13)-y(15))/mcp_h_hxfh)                                # T_cc1: y(15) \n",
    "\n",
    "# HELIUM-WATER HX (FUEL LOOP)\n",
    "# helium\n",
    "T_hhwf_h1 = W_h_fh/m_h_hxhw*(y(10,t-tau_h)-y(16)) + (hA_ht_hxhw*(y(18)-y(16))/mcp_h_hxhw)                  # T_cf1: y(16)\n",
    "T_hhwf_h2 = W_h_fh/m_h_hxhw*(y(16)-y(17)) + (hA_ht_hxhw*(y(18)-y(17))/mcp_h_hxhw)                              # T_cf2: y(17)\n",
    "\n",
    "# tubes\n",
    "T_hhwf_t1 = (hA_ht_hxhw/mcp_t_hxhw)*((y(16)-y(18))+(y(17)-y(18)))+(hA_tw_hxhw/mcp_t_hxhw)*((y(19)-y(18))+(y(20)-y(18))) # T_ht1: y(18)\n",
    "\n",
    "# water\n",
    "T_hhwf_w1 = W_hhwf_w/m_w*(T0_hhwf_w1-y(19)) + (hA_tw_hxhw*k_1*(y(18)-y(19))/mcp_w)                                       # T_cc1: y(19) \n",
    "T_hhwf_w2 = W_hhwf_w/m_w*(y(19)-y(20)) + (hA_tw_hxhw*k_2*(y(18)-y(20))/mcp_w)                                            # T_cc1: y(20) \n",
    "\n",
    "# HELIUM-WATER HX (COOLANT LOOP)\n",
    "# fuel nodes\n",
    "T_hhwc_h1 = W_h_ch/m_h_hxhw*(y(15,t-tau_h)-y(21)) + (hA_ht_hxhw*(y(23)-y(21))/mcp_h_hxhw)                    # T_cf1: y(21)\n",
    "T_hhwc_h2 = W_h_ch/m_h_hxhw*(y(21)-y(22)) + (hA_ht_hxhw*(y(23)-y(22))/mcp_h_hxhw)                                 # T_cf2: y(22)\n",
    "\n",
    "# tubes\n",
    "T_hhwc_t1 = (hA_ht_US_hxhw/mcp_t_hxhw)*((y(21)-y(23))+(y(22)-y(23))) + (hA_tw_hxhw/mcp_t_hxhw)*((y(24)-y(23))+(y(25)-y(23))) # T_ht1: y(23)\n",
    "\n",
    "# water\n",
    "T_hhwc_w1 = W_hhwc_w/m_w*(T0_hhwf_w1-y(24)) + (hA_tw_hxhw*k_1*(y(23)-y(24))/mcp_w)                                       # T_cc1: y(24) maybe don't need these nodes\n",
    "T_hhwc_w2 = W_hhwc_w/m_w*(y(24)-y(25)) + (hA_tw_hxhw*k_2*(y(23)-y(25))/mcp_w)                                            # T_cc1: y(25) \n",
    "\n",
    "n = (y(33)-beta_t)*y(26)/Lam+lam[0]*y(27)+lam[1]*y(28)+lam[2]*y(29)+lam[3]*y(30)+lam[4]*y(31)+lam[5]*y(32)                  # n (no source insertion): y(26)\n",
    "\n",
    "# dC_i/dt (precursor concentrations)\n",
    "C1 = y(26)*beta[0]/Lam - lam[0]*y(27) - y(27)/tau_c + y(27,t-tau_l)*np.exp(-lam[0]*tau_l)/tau_c                       # C1: y(27)\n",
    "C2 = y(26)*beta[1]/Lam - lam[1]*y(28) - y(28)/tau_c + y(28,t-tau_l)*np.exp(-lam[1]*tau_l)/tau_c                       # C2: y(28)\n",
    "C3 = y(26)*beta[2]/Lam - lam[2]*y(29) - y(29)/tau_c + y(29,t-tau_l)*np.exp(-lam[2]*tau_l)/tau_c                       # C3: y(29)\n",
    "C4 = y(26)*beta[3]/Lam - lam[3]*y(30) - y(30)/tau_c + y(30,t-tau_l)*np.exp(-lam[3]*tau_l)/tau_c                       # C4: y(30)\n",
    "C5 = y(26)*beta[4]/Lam - lam[4]*y(31) - y(31)/tau_c + y(31,t-tau_l)*np.exp(-lam[4]*tau_l)/tau_c                       # C5: y(31)\n",
    "C6 = y(26)*beta[5]/Lam - lam[5]*y(32) - y(32)/tau_c + y(32,t-tau_l)*np.exp(-lam[5]*tau_l)/tau_c                       # C6: y(32)\n",
    "\n",
    "# reactivity \n",
    "rho = (a_f/2)*(T_c_f1 + T_c_f2)+(a_b)*(T_c_m)+(a_c/2)*(T_c_c1+T_c_c2)           # rho: y(33)\n",
    "\n",
    "# power gen\n",
    "core_pow_f1 = (k_f1*P*y(26))\n",
    "core_pow_f2 = (k_f2*P*y(26))\n",
    "core_flow_f1 = W_f/(m_f_c)*(y(7,t-tau_hx_c_f)-y(0))\n",
    "core_flow_f2 = W_f/(m_f_c)*(y(0)-y(1))\n",
    "core_conduction_f1 = (hA_ft_c*(y(2)-y(0))/mcp_f_c) \n",
    "core_conduction_f2 = (hA_ft_c*(y(2)-y(1))/mcp_f_c) \n",
    "\n",
    "\n",
    "#T_c_f1 = W_f/(m_f_c)*(y(7,t-tau_hx_c_f)-y(0)) + (k_f1*P*y(26)/mcp_f_c) + (hA_ft_c*(y(2)-y(0))/mcp_f_c)         # T_cf1: y(0)\n",
    "#T_c_f2 = W_f/(m_f_c)*(y(0)-y(1)) + (k_f2*P*y(26)/mcp_f_c) + (hA_ft_c*(y(2)-y(1))/mcp_f_c)  "
   ]
  },
  {
   "cell_type": "markdown",
   "metadata": {},
   "source": [
    "Initial values & solve"
   ]
  },
  {
   "cell_type": "code",
   "execution_count": 3,
   "metadata": {},
   "outputs": [
    {
     "name": "stdout",
     "output_type": "stream",
     "text": [
      "Generating, compiling, and loading C code.\n",
      "Using default integration parameters.\n"
     ]
    },
    {
     "name": "stderr",
     "output_type": "stream",
     "text": [
      "/mnt/envs/thesis_env/lib/python3.9/site-packages/jitcdde/_jitcdde.py:795: UserWarning: You did not explicitly handle initial discontinuities. Proceed only if you know what you are doing. This is only fine if you somehow chose your initial past such that the derivative of the last anchor complies with the DDE. In this case, you can set the attribute `initial_discontinuities_handled` to `True` to suppress this warning. See https://jitcdde.rtfd.io/#discontinuities for details.\n",
      "  warn(\"You did not explicitly handle initial discontinuities. Proceed only if you know what you are doing. This is only fine if you somehow chose your initial past such that the derivative of the last anchor complies with the DDE. In this case, you can set the attribute `initial_discontinuities_handled` to `True` to suppress this warning. See https://jitcdde.rtfd.io/#discontinuities for details.\")\n",
      "/mnt/envs/thesis_env/lib/python3.9/site-packages/jitcdde/_jitcdde.py:795: UserWarning: You did not explicitly handle initial discontinuities. Proceed only if you know what you are doing. This is only fine if you somehow chose your initial past such that the derivative of the last anchor complies with the DDE. In this case, you can set the attribute `initial_discontinuities_handled` to `True` to suppress this warning. See https://jitcdde.rtfd.io/#discontinuities for details.\n",
      "  warn(\"You did not explicitly handle initial discontinuities. Proceed only if you know what you are doing. This is only fine if you somehow chose your initial past such that the derivative of the last anchor complies with the DDE. In this case, you can set the attribute `initial_discontinuities_handled` to `True` to suppress this warning. See https://jitcdde.rtfd.io/#discontinuities for details.\")\n"
     ]
    }
   ],
   "source": [
    "# instantiate jitcdde object\n",
    "DDE = jitcdde([T_c_f1,T_c_f2,T_c_t1,T_c_c1,T_c_c2,T_c_m,T_hfh_f1,T_hfh_f2,T_hfh_t1,T_hfh_h1,T_hfh_h2,\n",
    "               T_hch_c1,T_hch_c2,T_hch_t1,T_hch_h1,T_hch_h2,T_hhwf_h1,T_hhwf_h2,T_hhwf_t1,T_hhwf_w1,T_hhwf_w2,\n",
    "               T_hhwc_h1,T_hhwc_h2,T_hhwc_t1,T_hhwc_w1,T_hhwc_w2,n,C1,C2,C3,C4,C5,C6,rho,core_pow_f1,core_pow_f2,\n",
    "               core_flow_f1,core_flow_f2,core_conduction_f1,core_conduction_f2])\n",
    "\n",
    "# set initial conditions\n",
    "DDE.constant_past([T0_c_f1,T0_c_f2,T0_c_t1,T0_c_c1,T0_c_c2,T0_c_m,T0_hfh_f1,T0_hfh_f2,T0_hfh_t1,T0_hfh_h1,T0_hfh_h2,\n",
    "               T0_hch_c1,T0_hch_c2,T0_hch_t1,T0_hch_h1,T0_hch_h2,T0_hhwf_h1,T0_hhwf_h2,T0_hhwf_t1,T0_hhwf_w1,T0_hhwf_w2,\n",
    "               T0_hhwc_h1,T0_hhwc_h2,T0_hhwc_t1,T0_hhwc_w1,T0_hhwc_w2,n_frac0,C0[0],C0[1],C0[2],C0[3],C0[4],C0[5],0.0,\n",
    "               1.0165,1.10165,-37,-19,9,-19])\n",
    "\n",
    "#DDE.set_integration_parameters(atol=1e-10, rtol=1e-05, first_step=1.0, min_step=1e-11, max_step=10.0, decrease_threshold=1.1, \n",
    "#                           increase_threshold=0.5, safety_factor=0.9, max_factor=5.0, min_factor=0.2, pws_factor=3, \n",
    "#                           pws_atol=0.0, pws_rtol=1e-05, pws_max_iterations=10, pws_base_increase_chance=0.1, pws_fuzzy_increase=False)\n",
    "#\n",
    "# DDE.step_on_discontinuities()\n",
    "\n",
    "# jitcdde solver parameters \n",
    "t0 = 0.0\n",
    "tf = 5000.00\n",
    "T = np.arange(t0,tf,0.01)\n",
    "\n",
    "sol_jit = []\n",
    "for t_x in T:\n",
    "    sol_jit.append(DDE.integrate(t_x))"
   ]
  },
  {
   "cell_type": "markdown",
   "metadata": {},
   "source": [
    "Write data"
   ]
  },
  {
   "cell_type": "code",
   "execution_count": 4,
   "metadata": {},
   "outputs": [],
   "source": [
    "# write output data\n",
    "output_filename = f\"sim_out_{T[-1]}_{P}.txt\"\n",
    "results = open(output_filename,'w+')\n",
    "for k in range(len(sol_jit)):\n",
    "    results.write(f\"{T[k]} \")\n",
    "    for col in range(len(sol_jit[k])):\n",
    "        results.write(f\"{sol_jit[k][col]} \")\n",
    "    results.write(\"\\n\")"
   ]
  }
 ],
 "metadata": {
  "kernelspec": {
   "display_name": "thesis_env",
   "language": "python",
   "name": "python3"
  },
  "language_info": {
   "codemirror_mode": {
    "name": "ipython",
    "version": 3
   },
   "file_extension": ".py",
   "mimetype": "text/x-python",
   "name": "python",
   "nbconvert_exporter": "python",
   "pygments_lexer": "ipython3",
   "version": "3.9.2"
  }
 },
 "nbformat": 4,
 "nbformat_minor": 2
}
