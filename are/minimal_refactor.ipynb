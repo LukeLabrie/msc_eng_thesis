{
 "cells": [
  {
   "cell_type": "code",
   "execution_count": 1,
   "metadata": {},
   "outputs": [],
   "source": [
    "from jitcdde import jitcdde, t\n",
    "from parameters import *\n",
    "import numpy as np\n",
    "from variables import *\n",
    "from heat_transfer import *\n",
    "from solver.objects import Node, System"
   ]
  },
  {
   "cell_type": "code",
   "execution_count": 2,
   "metadata": {},
   "outputs": [],
   "source": [
    "# ARE system        \n",
    "ARE = System()\n",
    "\n",
    "# instantiate nodes\n",
    "# core nodes \n",
    "c_f1 = Node(m = m_f_c/2, W = W_f, y0 = T0_c_f1)\n",
    "c_f2 = Node(m = m_f_c/2, W = W_f, y0 = T0_c_f2)\n",
    "c_t1 = Node(y0 = T0_c_t1)\n",
    "c_c1 = Node(m = m_c_c/2, W = W_c, y0 = T0_c_c1)\n",
    "c_c2 = Node(m = m_c_c/2, W = W_c, y0 = T0_c_c2) \n",
    "c_m1 = Node(y0 = T0_c_m+50)\n",
    "n = Node(y0 = n_frac0)\n",
    "C1 = Node(y0 = C0[0])\n",
    "rho = Node(y0 = 0.0)\n",
    "\n",
    "ARE.addNodes([c_f1,c_f2,c_t1,c_c1,c_c2,c_m1,n,C1,rho])"
   ]
  },
  {
   "cell_type": "code",
   "execution_count": 3,
   "metadata": {},
   "outputs": [],
   "source": [
    "# define dynamics\n",
    "# core nodes\n",
    "c_f1.set_dTdt_bulkFlow(source = 500.00) \n",
    "c_f1.set_dTdt_internal(source = n.y, k = k_f1*P/mcp_f_c)\n",
    "c_f1.set_dTdt_convective(source = [c_t1.y], hA_mcp = [hA_ft_c/mcp_f_c])\n",
    "\n",
    "c_f2.set_dTdt_bulkFlow(source = c_f1.y) \n",
    "c_f2.set_dTdt_internal(source = n.y, k = k_f2*P/mcp_f_c)\n",
    "c_f2.set_dTdt_convective(source = [c_t1.y], hA_mcp = [hA_ft_c/mcp_f_c])\n",
    "\n",
    "c_t1.set_dTdt_convective(source = [c_f1.y, c_f2.y, c_c1.y, c_c2.y], \n",
    "                         hA_mcp = [hA_ft_c/mcp_t_c, hA_ft_c/mcp_t_c, hA_tc_c/mcp_t_c,hA_tc_c/mcp_t_c])\n",
    "\n",
    "c_c1.set_dTdt_bulkFlow(source = 500.00)\n",
    "c_c1.set_dTdt_convective(source = [c_t1.y,c_m1.y], hA_mcp = [hA_tc_c/mcp_c_c,hA_mc_c/mcp_c_c])\n",
    "\n",
    "c_c2.set_dTdt_bulkFlow(source = c_c1.y)\n",
    "c_c2.set_dTdt_convective(source = [c_t1.y,c_m1.y], hA_mcp = [hA_tc_c/mcp_c_c,hA_mc_c/mcp_c_c])\n",
    "\n",
    "c_m1.set_dTdt_internal(source = n.y, k = k_m*P/mcp_m_c)\n",
    "c_m1.set_dTdt_convective(source = [c_c1.y, c_c2.y], hA_mcp = [hA_mc_c/mcp_m_c]*2)\n",
    "\n",
    "n.set_dndt(rho.y, beta_t, Lam, [lam[0]], [C1.y])\n",
    "C1.set_dcdt(n.y, beta[0], Lam, lam[0], tau_c, tau_l)\n",
    "rho.set_drdt([c_f1.dydt,c_f2.dydt,c_m1.dydt,c_c1.dydt,c_c2.dydt],[a_f/2,a_f/2,a_b,a_c/2,a_c/2])\n",
    "\n",
    "# instantiate jitcdde object\n",
    "DDE = jitcdde([n.dydt() for n in ARE.nodes])\n",
    "\n",
    "# set initial conditions\n",
    "DDE.constant_past([n.y0 for n in ARE.nodes])"
   ]
  },
  {
   "cell_type": "code",
   "execution_count": 4,
   "metadata": {},
   "outputs": [
    {
     "name": "stdout",
     "output_type": "stream",
     "text": [
      "Generating, compiling, and loading C code.\n",
      "Using default integration parameters.\n"
     ]
    },
    {
     "data": {
      "text/plain": [
       "[(-1.0,\n",
       "  array([9.27038889e+02, 1.10092778e+03, 9.31761111e+02, 9.36483333e+02,\n",
       "         9.97038889e+02, 1.02759444e+03, 1.00000000e+00, 1.56128208e+01,\n",
       "         0.00000000e+00]),\n",
       "  array([0., 0., 0., 0., 0., 0., 0., 0., 0.])),\n",
       " (0.0,\n",
       "  array([9.27038889e+02, 1.10092778e+03, 9.31761111e+02, 9.36483333e+02,\n",
       "         9.97038889e+02, 1.02759444e+03, 1.00000000e+00, 1.56128208e+01,\n",
       "         0.00000000e+00]),\n",
       "  array([0., 0., 0., 0., 0., 0., 0., 0., 0.]))]"
      ]
     },
     "execution_count": 4,
     "metadata": {},
     "output_type": "execute_result"
    }
   ],
   "source": [
    "DDE.get_state()"
   ]
  },
  {
   "cell_type": "code",
   "execution_count": 5,
   "metadata": {},
   "outputs": [
    {
     "data": {
      "text/plain": [
       "0.0770480200560468*(500.0 - current_y(3)) + 0.0598891073963077*(current_y(2) - current_y(3)) + 0.00377850861311447*(-current_y(3) + current_y(5))"
      ]
     },
     "execution_count": 5,
     "metadata": {},
     "output_type": "execute_result"
    }
   ],
   "source": [
    "c_c1.dydt()"
   ]
  },
  {
   "cell_type": "code",
   "execution_count": 6,
   "metadata": {},
   "outputs": [
    {
     "name": "stdout",
     "output_type": "stream",
     "text": [
      "8.348776325023172\n"
     ]
    },
    {
     "name": "stderr",
     "output_type": "stream",
     "text": [
      "/mnt/envs/thesis_env/lib/python3.9/site-packages/jitcdde/_jitcdde.py:795: UserWarning: You did not explicitly handle initial discontinuities. Proceed only if you know what you are doing. This is only fine if you somehow chose your initial past such that the derivative of the last anchor complies with the DDE. In this case, you can set the attribute `initial_discontinuities_handled` to `True` to suppress this warning. See https://jitcdde.rtfd.io/#discontinuities for details.\n",
      "  warn(\"You did not explicitly handle initial discontinuities. Proceed only if you know what you are doing. This is only fine if you somehow chose your initial past such that the derivative of the last anchor complies with the DDE. In this case, you can set the attribute `initial_discontinuities_handled` to `True` to suppress this warning. See https://jitcdde.rtfd.io/#discontinuities for details.\")\n",
      "/mnt/envs/thesis_env/lib/python3.9/site-packages/jitcdde/_jitcdde.py:792: UserWarning: The target time is smaller than the current time. No integration step will happen. The returned state will be extrapolated from the interpolating Hermite polynomial for the last integration step. You may see this because you try to integrate backwards in time, in which case you did something wrong. You may see this just because your sampling step is small, in which case there is no need to worry.\n",
      "  warn(\"The target time is smaller than the current time. No integration step will happen. The returned state will be extrapolated from the interpolating Hermite polynomial for the last integration step. You may see this because you try to integrate backwards in time, in which case you did something wrong. You may see this just because your sampling step is small, in which case there is no need to worry.\")\n"
     ]
    }
   ],
   "source": [
    "T = np.arange(0.0,250,0.01)\n",
    "sol_jit = []\n",
    "for t_x in T:\n",
    "    sol_jit.append(DDE.integrate(t_x))\n",
    "\n",
    "print(sol_jit[-1][6])"
   ]
  }
 ],
 "metadata": {
  "kernelspec": {
   "display_name": "thesis_env",
   "language": "python",
   "name": "python3"
  },
  "language_info": {
   "codemirror_mode": {
    "name": "ipython",
    "version": 3
   },
   "file_extension": ".py",
   "mimetype": "text/x-python",
   "name": "python",
   "nbconvert_exporter": "python",
   "pygments_lexer": "ipython3",
   "version": "3.9.2"
  }
 },
 "nbformat": 4,
 "nbformat_minor": 2
}
