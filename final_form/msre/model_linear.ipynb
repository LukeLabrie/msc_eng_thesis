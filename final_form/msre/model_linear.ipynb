{
 "cells": [
  {
   "cell_type": "markdown",
   "metadata": {},
   "source": [
    "Imports"
   ]
  },
  {
   "cell_type": "code",
   "execution_count": 1,
   "metadata": {},
   "outputs": [],
   "source": [
    "from parameters_U233 import *\n",
    "import numpy as np\n",
    "import matplotlib.pyplot as plt\n",
    "import pandas as pd\n",
    "from jitcdde import t\n",
    "from msrDynamics.objects import Node, System\n"
   ]
  },
  {
   "cell_type": "code",
   "execution_count": 2,
   "metadata": {},
   "outputs": [],
   "source": [
    "MSRE = System()\n",
    "\n",
    "# radiator\n",
    "T_out_rc = Node(m = mn_rp, scp = mcp_rpn/mn_rp, W = W_rp, y0 = T0_rp)\n",
    "T_out_air = Node(m = mn_rs, scp = mcp_rsn/mn_rs, W = W_rs, y0 = T0_rs)\n",
    "\n",
    "# heat exchanger\n",
    "T_hf1 = Node(m = mn_p, scp = mcp_pn/mn_p, W = W_p, y0 = T0_p1)\n",
    "T_hf2 = Node(m = mn_p, scp = mcp_pn/mn_p, W = W_p, y0 = T0_p2)\n",
    "T_hf3 = Node(m = mn_p, scp = mcp_pn/mn_p, W = W_p, y0 = T0_p3)\n",
    "T_hf4 = Node(m = mn_p, scp = mcp_pn/mn_p, W = W_p, y0 = T0_p4)\n",
    "T_ht1 = Node(m = m_tn, scp = scp_t, y0 = T0_t1)\n",
    "T_ht2 = Node(m = m_tn, scp = scp_t, y0 = T0_t2)\n",
    "T_hc1 = Node(m = mn_s, scp = mcp_sn/mn_s, W = W_s, y0 = T0_s1)\n",
    "T_hc2 = Node(m = mn_s, scp = mcp_sn/mn_s, W = W_s, y0 = T0_s2)\n",
    "T_hc3 = Node(m = mn_s, scp = mcp_sn/mn_s, W = W_s, y0 = T0_s3)\n",
    "T_hc4 = Node(m = mn_s, scp = mcp_sn/mn_s, W = W_s, y0 = T0_s4)\n",
    "\n",
    "# core \n",
    "n = Node(y0 = n_frac0)\n",
    "C1 = Node(y0 = C0[0])\n",
    "C2 = Node(y0 = C0[1])\n",
    "C3 = Node(y0 = C0[2])\n",
    "C4 = Node(y0 = C0[3])\n",
    "C5 = Node(y0 = C0[4])\n",
    "C6 = Node(y0 = C0[5])\n",
    "rho = Node(y0 = 0.003)\n",
    "\n",
    "# add reactivity input\n",
    "t_ins = 500\n",
    "inserted = 0.0\n",
    "insert_duration = 0.0\n",
    "t_wd = 2500\n",
    "def rho_insert(t):\n",
    "    if (t<t_ins):\n",
    "        return 0.0\n",
    "    # elif (t<(t_ins+insert_duration)):\n",
    "    #     return ((t-t_ins))*(inserted/insert_duration) # linear\n",
    "    # elif (t < t_wd):\n",
    "    #     return inserted\n",
    "    # elif (t < t_wd+insert_duration):\n",
    "    #     return inserted-((t-t_wd))*(inserted/insert_duration) # linear\n",
    "    else:\n",
    "        return inserted\n",
    "\n",
    "rho_ext =MSRE.add_input(rho_insert, T)\n",
    "\n",
    "T_cg = Node(m = mcp_g1/scp_g, scp = scp_g, y0 = T0_g1)\n",
    "T_cf1 = Node(m = mn_f, scp = scp_f, W = W_f, y0 = T0_f1)\n",
    "T_cf2 = Node(m = mn_f, scp = scp_f, W = W_f, y0 = T0_f1)\n",
    "\n",
    "MSRE.add_nodes([T_out_rc,T_out_air,T_hf1,T_hf2,T_hf3,T_hf4,T_ht1,T_ht2,T_hc1,\n",
    "               T_hc2,T_hc3,T_hc4,n,C1,C2,C3,C4,C5,C6,T_cg,T_cf1,T_cf2,rho])\n",
    "\n",
    "# dynamics \n",
    "\n",
    "# radiator\n",
    "T_out_rc.set_dTdt_advective(source = T_hc4.y(t-tau_hx_r))\n",
    "T_out_rc.set_dTdt_convective(source = [T_out_air.y()], hA = [hA_rpn])\n",
    "\n",
    "T_out_air.set_dTdt_advective(source = Trs_in)\n",
    "T_out_air.set_dTdt_convective(source = [T_out_rc.y()], hA = [hA_rsn])\n",
    "\n",
    "# heat exchanger\n",
    "T_hf1.set_dTdt_advective(source = T_cf2.y(t-tau_c_hx))\n",
    "T_hf1.set_dTdt_convective(source = [T_ht1.y()], hA = [hA_pn])\n",
    "\n",
    "T_hf2.set_dTdt_advective(source = T_hf1.y())\n",
    "T_hf2.set_dTdt_convective(source = [T_ht1.y()], hA = [hA_pn])\n",
    "\n",
    "T_hf3.set_dTdt_advective(source = T_hf2.y())\n",
    "T_hf3.set_dTdt_convective(source = [T_ht2.y()], hA = [hA_pn])\n",
    "\n",
    "T_hf4.set_dTdt_advective(source = T_hf3.y())\n",
    "T_hf4.set_dTdt_convective(source = [T_ht2.y()], hA = [hA_pn])\n",
    "\n",
    "T_ht1.set_dTdt_convective(source = [T_hf1.y(),T_hf2.y(),T_hc3.y(),T_hc4.y()], hA = [hA_pn,hA_pn,hA_sn,hA_sn])\n",
    "T_ht2.set_dTdt_convective(source = [T_hf3.y(),T_hf4.y(),T_hc1.y(),T_hc2.y()], hA = [hA_pn,hA_pn,hA_sn,hA_sn])\n",
    "\n",
    "T_hc1.set_dTdt_advective(source = T_out_rc.y(t-tau_r_hx))\n",
    "T_hc1.set_dTdt_convective(source = [T_ht2.y()], hA = [hA_sn])\n",
    "\n",
    "T_hc2.set_dTdt_advective(source = T_hc1.y())\n",
    "T_hc2.set_dTdt_convective(source = [T_ht2.y()], hA = [hA_sn])\n",
    "\n",
    "T_hc3.set_dTdt_advective(source = T_hc2.y())\n",
    "T_hc3.set_dTdt_convective(source = [T_ht1.y()], hA = [hA_sn])\n",
    "\n",
    "T_hc4.set_dTdt_advective(source = T_hc3.y())\n",
    "T_hc4.set_dTdt_convective(source = [T_ht1.y()], hA = [hA_sn])\n",
    "\n",
    "# core\n",
    "# n.set_dndt(r = rho.y()+rho_ext, beta_eff = beta_t, Lambda = Lam, lam = lam, C = [C1.y(),C2.y(),C3.y(),C4.y(),C5.y(),C6.y()])\n",
    "n.dndt = ((rho_0-beta_t)/Lam)*n.y() + lam[0]*C1.y() + lam[1]*C2.y() + lam[2]*C3.y() + lam[3]*C4.y() + lam[4]*C5.y() + lam[5]*C6.y() + 1.0112432493233101*(rho.y()+rho_ext)/Lam\n",
    "# n.dndt = ((rho_0-beta_t)/Lam)*n.y() + lam[0]*C1.y() + lam[1]*C2.y() + lam[2]*C3.y() + lam[3]*C4.y() + lam[4]*C5.y() + lam[5]*C6.y() + rho.y()/Lam\n",
    "C1.set_dcdt(n.y(),beta[0],Lam,lam[0],tau_c,tau_l)\n",
    "C2.set_dcdt(n.y(),beta[1],Lam,lam[1],tau_c,tau_l)\n",
    "C3.set_dcdt(n.y(),beta[2],Lam,lam[2],tau_c,tau_l)\n",
    "C4.set_dcdt(n.y(),beta[3],Lam,lam[3],tau_c,tau_l)\n",
    "C5.set_dcdt(n.y(),beta[4],Lam,lam[4],tau_c,tau_l)\n",
    "C6.set_dcdt(n.y(),beta[5],Lam,lam[5],tau_c,tau_l)\n",
    "\n",
    "T_cg.set_dTdt_convective(source = [T_cf1.y()], hA = [hA_fg])\n",
    "T_cg.set_dTdt_internal(source = n.y(), k = k_g*P)\n",
    "\n",
    "T_cf1.set_dTdt_advective(source = T_hf4.y(t-tau_hx_c))\n",
    "T_cf1.set_dTdt_convective(source = [T_cg.y()], hA = [k_1*hA_fg])\n",
    "T_cf1.set_dTdt_internal(source = n.y(), k = k_f1*P)\n",
    "\n",
    "T_cf2.set_dTdt_advective(source = T_cf1.y())\n",
    "T_cf2.set_dTdt_convective(source = [T_cg.y()], hA = [k_2*hA_fg])\n",
    "T_cf2.set_dTdt_internal(source = n.y(), k = k_f2*P)\n",
    "\n",
    "rho.set_drdt(sources = [T_cf1.dydt(), T_cf2.dydt(), T_cg.dydt()], coeffs = [a_f/2,a_f/2,a_g])"
   ]
  },
  {
   "cell_type": "code",
   "execution_count": 3,
   "metadata": {},
   "outputs": [
    {
     "name": "stdout",
     "output_type": "stream",
     "text": [
      "Generating, compiling, and loading C code.\n",
      "Using default integration parameters.\n"
     ]
    },
    {
     "name": "stderr",
     "output_type": "stream",
     "text": [
      "/home/luke/git/envs/thesis_env/lib/python3.11/site-packages/jitcdde/_jitcdde.py:795: UserWarning: You did not explicitly handle initial discontinuities. Proceed only if you know what you are doing. This is only fine if you somehow chose your initial past such that the derivative of the last anchor complies with the DDE. In this case, you can set the attribute `initial_discontinuities_handled` to `True` to suppress this warning. See https://jitcdde.rtfd.io/#discontinuities for details.\n",
      "  warn(\"You did not explicitly handle initial discontinuities. Proceed only if you know what you are doing. This is only fine if you somehow chose your initial past such that the derivative of the last anchor complies with the DDE. In this case, you can set the attribute `initial_discontinuities_handled` to `True` to suppress this warning. See https://jitcdde.rtfd.io/#discontinuities for details.\")\n",
      "/home/luke/git/envs/thesis_env/lib/python3.11/site-packages/jitcdde/_jitcdde.py:795: UserWarning: You did not explicitly handle initial discontinuities. Proceed only if you know what you are doing. This is only fine if you somehow chose your initial past such that the derivative of the last anchor complies with the DDE. In this case, you can set the attribute `initial_discontinuities_handled` to `True` to suppress this warning. See https://jitcdde.rtfd.io/#discontinuities for details.\n",
      "  warn(\"You did not explicitly handle initial discontinuities. Proceed only if you know what you are doing. This is only fine if you somehow chose your initial past such that the derivative of the last anchor complies with the DDE. In this case, you can set the attribute `initial_discontinuities_handled` to `True` to suppress this warning. See https://jitcdde.rtfd.io/#discontinuities for details.\")\n",
      "/home/luke/git/envs/thesis_env/lib/python3.11/site-packages/jitcdde/_jitcdde.py:792: UserWarning: The target time is smaller than the current time. No integration step will happen. The returned state will be extrapolated from the interpolating Hermite polynomial for the last integration step. You may see this because you try to integrate backwards in time, in which case you did something wrong. You may see this just because your sampling step is small, in which case there is no need to worry.\n",
      "  warn(\"The target time is smaller than the current time. No integration step will happen. The returned state will be extrapolated from the interpolating Hermite polynomial for the last integration step. You may see this because you try to integrate backwards in time, in which case you did something wrong. You may see this just because your sampling step is small, in which case there is no need to worry.\")\n"
     ]
    }
   ],
   "source": [
    "sol_nonlinear = MSRE.solve(T)"
   ]
  },
  {
   "cell_type": "code",
   "execution_count": 4,
   "metadata": {},
   "outputs": [
    {
     "data": {
      "text/plain": [
       "1.0479945191392943"
      ]
     },
     "execution_count": 4,
     "metadata": {},
     "output_type": "execute_result"
    }
   ],
   "source": [
    "n.y_out[-1]"
   ]
  },
  {
   "cell_type": "code",
   "execution_count": 5,
   "metadata": {},
   "outputs": [
    {
     "name": "stdout",
     "output_type": "stream",
     "text": [
      "Generating, compiling, and loading C code.\n",
      "Using default integration parameters.\n"
     ]
    }
   ],
   "source": [
    "# linearize n\n",
    "n.dndt = ((rho_0-beta_t)/Lam)*n.y() + lam[0]*C1.y() + lam[1]*C2.y() + lam[2]*C3.y() + lam[3]*C4.y() + lam[4]*C5.y() + lam[5]*C6.y() + n.y_out[-1]*(rho.y()+rho_ext)/Lam\n",
    "rho.y0 = 0.0\n",
    "sol_linear = MSRE.solve(T)"
   ]
  },
  {
   "cell_type": "code",
   "execution_count": 6,
   "metadata": {},
   "outputs": [
    {
     "data": {
      "text/plain": [
       "1.0183793180538228"
      ]
     },
     "execution_count": 6,
     "metadata": {},
     "output_type": "execute_result"
    }
   ],
   "source": [
    "n.y_out[-1]"
   ]
  }
 ],
 "metadata": {
  "kernelspec": {
   "display_name": "thesis_env",
   "language": "python",
   "name": "python3"
  },
  "language_info": {
   "codemirror_mode": {
    "name": "ipython",
    "version": 3
   },
   "file_extension": ".py",
   "mimetype": "text/x-python",
   "name": "python",
   "nbconvert_exporter": "python",
   "pygments_lexer": "ipython3",
   "version": "3.11.6"
  },
  "orig_nbformat": 4
 },
 "nbformat": 4,
 "nbformat_minor": 2
}
